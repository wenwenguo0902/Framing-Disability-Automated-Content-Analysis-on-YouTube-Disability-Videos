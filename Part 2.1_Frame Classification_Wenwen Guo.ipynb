{
 "cells": [
  {
   "cell_type": "markdown",
   "metadata": {},
   "source": [
    "# Frame Classification\n",
    "This Jupyter Notebook will deal with frame classification, the methods are adopted from Odijk et al. (2013).\n",
    "NOTE: since training and classifying takes time, I will not rerun those relevant code blocks."
   ]
  },
  {
   "cell_type": "code",
   "execution_count": 1,
   "metadata": {},
   "outputs": [],
   "source": [
    "# ! pip install spacy\n",
    "# !python -m spacy download en_core_web_trf"
   ]
  },
  {
   "cell_type": "code",
   "execution_count": 2,
   "metadata": {},
   "outputs": [],
   "source": [
    "import pandas as pd\n",
    "import numpy as np\n",
    "from sklearn.feature_extraction.text import TfidfVectorizer\n",
    "from sklearn.model_selection import train_test_split\n",
    "from sklearn.linear_model import LogisticRegression\n",
    "from sklearn.metrics import classification_report\n",
    "from sklearn.dummy import DummyClassifier\n",
    "from sklearn.pipeline import Pipeline\n",
    "from sklearn.multioutput import MultiOutputClassifier\n",
    "from sklearn.metrics import accuracy_score, f1_score\n",
    "from sklearn.multioutput import ClassifierChain\n",
    "\n",
    "\n",
    "from sklearn.base import clone\n",
    "from sklearn.ensemble import RandomForestClassifier\n",
    "from sklearn.feature_extraction.text import TfidfVectorizer, CountVectorizer, HashingVectorizer\n",
    "from sklearn.linear_model import LogisticRegression\n",
    "from sklearn.metrics import classification_report, roc_auc_score, accuracy_score, f1_score, confusion_matrix\n",
    "from sklearn.model_selection import train_test_split, GridSearchCV, cross_val_score\n",
    "from sklearn.naive_bayes import MultinomialNB\n",
    "from sklearn.pipeline import Pipeline\n",
    "from sklearn.svm import SVC\n",
    "from sklearn.utils.class_weight import compute_sample_weight, compute_class_weight\n",
    "\n",
    "import nltk\n",
    "from sklearn.feature_extraction.text import CountVectorizer, HashingVectorizer, TfidfVectorizer\n",
    "from sklearn.linear_model import LogisticRegression\n",
    "from sklearn.ensemble import RandomForestClassifier\n",
    "from sklearn.svm import SVC, LinearSVC\n",
    "from sklearn.naive_bayes import MultinomialNB\n",
    "from sklearn.metrics import confusion_matrix\n",
    "\n",
    "from sklearn.pipeline import Pipeline\n",
    "from sklearn.feature_extraction.text import TfidfVectorizer\n",
    "from sklearn.ensemble import VotingClassifier\n",
    "from sklearn.svm import SVC\n",
    "from sklearn.linear_model import Perceptron, LogisticRegression\n",
    "from sklearn.multiclass import OneVsRestClassifier\n",
    "\n",
    "from gensim.models import Word2Vec\n",
    "from gensim.parsing.preprocessing import preprocess_string\n",
    "\n",
    "import spacy\n",
    "from spacy.tokens import DocBin\n",
    "import en_core_web_trf\n",
    "import matplotlib.pyplot as plt\n",
    "import seaborn as sns\n",
    "import os\n",
    "\n"
   ]
  },
  {
   "cell_type": "markdown",
   "metadata": {},
   "source": [
    "## Data Cleaning"
   ]
  },
  {
   "cell_type": "markdown",
   "metadata": {},
   "source": [
    "Load the data. The labeled.csv is the manually-labeled data file."
   ]
  },
  {
   "cell_type": "code",
   "execution_count": 3,
   "metadata": {},
   "outputs": [],
   "source": [
    "# Load the data\n",
    "data = pd.read_csv('labeled.csv')"
   ]
  },
  {
   "cell_type": "markdown",
   "metadata": {},
   "source": [
    "Split data into training and testing sets"
   ]
  },
  {
   "cell_type": "code",
   "execution_count": 4,
   "metadata": {},
   "outputs": [],
   "source": [
    "X = data['Description']\n",
    "y = data[['Conflict', 'Economic Consequences', 'Human Interest', 'Morality']]"
   ]
  },
  {
   "cell_type": "markdown",
   "metadata": {},
   "source": [
    "Split into train-validation-test datasets."
   ]
  },
  {
   "cell_type": "code",
   "execution_count": 5,
   "metadata": {},
   "outputs": [
    {
     "name": "stdout",
     "output_type": "stream",
     "text": [
      "We have 150 train examples, 50 validation examples, and 50 test examples.\n"
     ]
    }
   ],
   "source": [
    "# Split your data into training and test sets\n",
    "X_train_val, X_test, y_train_val, y_test = train_test_split(X, y, test_size=0.2, random_state=42)\n",
    "\n",
    "# Split your training data into training and validation sets\n",
    "X_train, X_val, y_train, y_val = train_test_split(X_train_val, y_train_val, test_size=0.25, random_state=42)\n",
    "\n",
    "print(f\"We have {len(X_train)} train examples, {len(X_val)} validation examples, and {len(X_test)} test examples.\")"
   ]
  },
  {
   "cell_type": "markdown",
   "metadata": {},
   "source": [
    "Save the data for the separate BERT notebook."
   ]
  },
  {
   "cell_type": "code",
   "execution_count": 6,
   "metadata": {},
   "outputs": [],
   "source": [
    "X_train_val.to_csv('X_train_val.csv', index=False)\n",
    "X_test.to_csv('X_test.csv', index=False)\n",
    "y_train_val.to_csv('y_train_val.csv', index=False)\n",
    "y_test.to_csv('y_test.csv', index=False)\n",
    "X_train.to_csv('X_train.csv', index=False)\n",
    "X_val.to_csv('X_val.csv', index=False)\n",
    "y_train.to_csv('y_train.csv', index=False)\n",
    "y_val.to_csv('y_val.csv', index=False)\n"
   ]
  },
  {
   "cell_type": "markdown",
   "metadata": {},
   "source": [
    "# Baseline models"
   ]
  },
  {
   "cell_type": "markdown",
   "metadata": {},
   "source": [
    "## 1. Stratified Random Classification Baseline\n",
    "\"Our first baseline approach is very naive and intended as a lower bound. It randomly choses the answer to a indicator question or whether a frame is present or not, taking into account only the prevalence in training set. This naive baseline randomly assigns a classification, without considering the document and its representation, with a probability based on the class distributions. This naive baseline will be more likely to randomly pick the majority class than the minority class.\" (Odijk et al., 2013)"
   ]
  },
  {
   "cell_type": "markdown",
   "metadata": {},
   "source": [
    "Here, the values of the predictions are completely random. The np.random() is used. Documentation can be found in the numpy package for random sampling https://numpy.org/doc/stable/reference/random/index.html"
   ]
  },
  {
   "cell_type": "code",
   "execution_count": 7,
   "metadata": {},
   "outputs": [],
   "source": [
    "# Calculate class distribution for each label\n",
    "class_distribution = y_train.mean().values\n",
    "\n",
    "# Generate random predictions based on class distribution\n",
    "random_predictions = np.array([np.random.choice([0, 1], size=len(X_val), p=[1-cd, cd]) for cd in class_distribution]).T"
   ]
  },
  {
   "cell_type": "markdown",
   "metadata": {},
   "source": [
    "Calculate the accuracy, precision, recall, f1 scores and report them."
   ]
  },
  {
   "cell_type": "code",
   "execution_count": 8,
   "metadata": {},
   "outputs": [],
   "source": [
    "# Evaluate Random Classifier\n",
    "random_accuracy = [accuracy_score(y_val.iloc[:, i], random_predictions[:, i]) for i in range(y_val.shape[1])]\n",
    "random_f1 = [f1_score(y_val.iloc[:, i], random_predictions[:, i], zero_division=0) for i in range(y_val.shape[1])]"
   ]
  },
  {
   "cell_type": "code",
   "execution_count": 9,
   "metadata": {},
   "outputs": [
    {
     "data": {
      "text/html": [
       "<div>\n",
       "<style scoped>\n",
       "    .dataframe tbody tr th:only-of-type {\n",
       "        vertical-align: middle;\n",
       "    }\n",
       "\n",
       "    .dataframe tbody tr th {\n",
       "        vertical-align: top;\n",
       "    }\n",
       "\n",
       "    .dataframe thead th {\n",
       "        text-align: right;\n",
       "    }\n",
       "</style>\n",
       "<table border=\"1\" class=\"dataframe\">\n",
       "  <thead>\n",
       "    <tr style=\"text-align: right;\">\n",
       "      <th></th>\n",
       "      <th>Frame</th>\n",
       "      <th>Random Accuracy</th>\n",
       "      <th>Random F1 Score</th>\n",
       "    </tr>\n",
       "  </thead>\n",
       "  <tbody>\n",
       "    <tr>\n",
       "      <th>0</th>\n",
       "      <td>Conflict</td>\n",
       "      <td>0.60</td>\n",
       "      <td>0.333333</td>\n",
       "    </tr>\n",
       "    <tr>\n",
       "      <th>1</th>\n",
       "      <td>Economic Consequences</td>\n",
       "      <td>0.54</td>\n",
       "      <td>0.303030</td>\n",
       "    </tr>\n",
       "    <tr>\n",
       "      <th>2</th>\n",
       "      <td>Human Interest</td>\n",
       "      <td>0.52</td>\n",
       "      <td>0.636364</td>\n",
       "    </tr>\n",
       "    <tr>\n",
       "      <th>3</th>\n",
       "      <td>Morality</td>\n",
       "      <td>0.56</td>\n",
       "      <td>0.421053</td>\n",
       "    </tr>\n",
       "  </tbody>\n",
       "</table>\n",
       "</div>"
      ],
      "text/plain": [
       "                   Frame  Random Accuracy  Random F1 Score\n",
       "0               Conflict             0.60         0.333333\n",
       "1  Economic Consequences             0.54         0.303030\n",
       "2         Human Interest             0.52         0.636364\n",
       "3               Morality             0.56         0.421053"
      ]
     },
     "execution_count": 9,
     "metadata": {},
     "output_type": "execute_result"
    }
   ],
   "source": [
    "# Prepare to display the results\n",
    "frame_labels = y_val.columns.tolist()\n",
    "evaluation_results = pd.DataFrame({\n",
    "    'Frame': frame_labels,\n",
    "    'Random Accuracy': random_accuracy,\n",
    "    'Random F1 Score': random_f1,\n",
    "})\n",
    "\n",
    "evaluation_results"
   ]
  },
  {
   "cell_type": "markdown",
   "metadata": {},
   "source": [
    "The random classification model shows a baseline of random guessing. It serves as a baseline comparison with the following classification approaches."
   ]
  },
  {
   "cell_type": "markdown",
   "metadata": {},
   "source": [
    "## 2. Direct Classification Baseline\n",
    "Our second baseline approach is to classify answers to indicator questions and the presence of each frame directly. More formally, we train a classifier to estimate P(um|d) for each frame um ∈ U. This approach is the simplest approach and is depicted in Figure 1a. Note that for frames, we completely ignore the indicator questions in this baseline approach. For classification we use Logistic Regression to optimize logistic loss using Pegasos-style regularization. For training we alternate between pairwise ROCoptimization and standard stochastic gradient steps on single examples. This baseline approach aims to be flexible in dealing with issues such as class imbalance."
   ]
  },
  {
   "cell_type": "markdown",
   "metadata": {},
   "source": [
    "### 2.1 Define a function that trains, tunes and cross-validate the model.\n",
    "The function can be found reference in my second take-home exam. The difference is that the take-home exam is a binary classification, but here the function uses multi-label classification. The change of the function can be explicitly found in the pipeline, where the classifier is MultiOutputClassifier(). The MultiOutputClassifier() is used for Multi target classification. This strategy consists of fitting one classifier per target. This is a simple strategy for extending classifiers that do not natively support multi-target classification. Documentation can be found in https://scikit-learn.org/stable/modules/generated/sklearn.multioutput.MultiOutputClassifier.html.\n",
    "\n"
   ]
  },
  {
   "cell_type": "code",
   "execution_count": 10,
   "metadata": {},
   "outputs": [],
   "source": [
    "def train_and_tune_model(title, X_train, y_train, X_val, y_val, target_names, model, vectorizer, param_grid, cv=10):\n",
    "    # Create the pipeline with the vectorizer and the classifier wrapped in MultiOutputClassifier\n",
    "    pipeline = Pipeline([\n",
    "        ('vectorizer', vectorizer),\n",
    "        ('classifier', MultiOutputClassifier(model))\n",
    "    ])\n",
    "\n",
    "    # Setup Grid Search with cross-validation\n",
    "    grid_search = GridSearchCV(pipeline, param_grid, cv=cv, verbose=1, scoring='accuracy', n_jobs=1, error_score='raise')\n",
    "\n",
    "    # Fit the grid search to the training data\n",
    "    grid_search.fit(X_train, y_train)\n",
    "\n",
    "    # Best parameters and best score\n",
    "    best_params = grid_search.best_params_\n",
    "    best_score = grid_search.best_score_\n",
    "\n",
    "    # Predict on the validation data using the best estimator\n",
    "    best_model = grid_search.best_estimator_\n",
    "    predictions = best_model.predict(X_val)\n",
    "\n",
    "    # Ensure y_val is a numpy array for indexing\n",
    "    y_val_np = y_val.values\n",
    "\n",
    "    # Generate and print the classification report\n",
    "    reports = []\n",
    "    roc_aucs = []\n",
    "    for i, name in enumerate(target_names):\n",
    "        report = classification_report(y_val_np[:, i], predictions[:, i], target_names=[f'Not {name}', name])\n",
    "        reports.append(report)\n",
    "        \n",
    "        # Correctly access individual fitted model for each label to calculate ROC AUC\n",
    "        if hasattr(best_model.named_steps['classifier'].estimators_[i], \"predict_proba\"):\n",
    "            prob_predictions = best_model.named_steps['classifier'].estimators_[i].predict_proba(best_model.named_steps['vectorizer'].transform(X_val))[:, 1]\n",
    "            roc_auc = roc_auc_score(y_val_np[:, i], prob_predictions)\n",
    "            roc_aucs.append(roc_auc)\n",
    "        else:\n",
    "            roc_aucs.append(None)\n",
    "    \n",
    "    # Perform cross-validation on the complete training dataset using the best estimator\n",
    "    cv_scores = cross_val_score(clone(best_model), X_train, y_train, cv=cv, scoring='accuracy')\n",
    "\n",
    "    # Print the results including the title\n",
    "    print(f\"Best Parameters: {best_params}\\nBest Score: {best_score}\\n{title}:\")\n",
    "    for report, roc_auc, name in zip(reports, roc_aucs, target_names):\n",
    "        print(f\"\\nClassification Report for {name}:\\n{report}\")\n",
    "        if roc_auc is not None:\n",
    "            print(f\"ROC AUC for {name}: {roc_auc}\\n\")\n",
    "    print(\"Average cross-validation score: {:.2f}\".format(cv_scores.mean()))\n",
    "\n",
    "    return best_params, best_score, reports, roc_aucs, cv_scores, predictions, best_model\n"
   ]
  },
  {
   "cell_type": "markdown",
   "metadata": {},
   "source": [
    "### 2.2 Define the vectorizers and the models.\n",
    "\n",
    "Here, [the logistic regression model](https://scikit-learn.org/stable/modules/generated/sklearn.linear_model.LogisticRegression.html), [the random forest classifier](https://scikit-learn.org/stable/modules/generated/sklearn.ensemble.RandomForestClassifier.html#), [the Support Vector Machines](https://scikit-learn.org/stable/modules/svm.html) (SVM), and [the Naive Bayes classifier for multinomial models](https://scikit-learn.org/stable/modules/generated/sklearn.naive_bayes.MultinomialNB.html)are used.\n",
    "\n",
    "[The TF-IDF vectorizor](https://scikit-learn.org/stable/modules/generated/sklearn.feature_extraction.text.TfidfVectorizer.html), [the CountVectorizer](https://scikit-learn.org/stable/modules/generated/sklearn.feature_extraction.text.CountVectorizer.html) and [the HashingVectorizer](https://scikit-learn.org/stable/modules/generated/sklearn.feature_extraction.text.HashingVectorizer.html) from `sklearn.feature_extraction.text` are used and compared.\n",
    "\n",
    "The stopwords are downloaded from [nltk stopwords](https://pythonspot.com/nltk-stop-words/), as the labeled and unlabeled texts are in italian, so the built-in english stop words cannot be adopted.\n",
    "\n",
    "For the first three models, I also added [balancing classes](https://stackoverflow.com/questions/30972029/how-does-the-class-weight-parameter-in-scikit-learn-work) so that I have approxiamtely the same amount of annoteted training data for both classes.\n",
    "\n",
    "The target_names are also different from the previous binary classification, as there are four columns in total."
   ]
  },
  {
   "cell_type": "code",
   "execution_count": 11,
   "metadata": {},
   "outputs": [
    {
     "name": "stderr",
     "output_type": "stream",
     "text": [
      "[nltk_data] Downloading package stopwords to\n",
      "[nltk_data]     /Users/wenwen/nltk_data...\n",
      "[nltk_data]   Package stopwords is already up-to-date!\n"
     ]
    }
   ],
   "source": [
    "# Download stopwords from nltk\n",
    "nltk.download('stopwords')\n",
    "\n",
    "# Load English stopwords\n",
    "english_stopwords = nltk.corpus.stopwords.words('english')\n",
    "\n",
    "# Vectorizers\n",
    "count_vectorizer = CountVectorizer(stop_words=english_stopwords, max_features=10000)\n",
    "hashing_vectorizer = HashingVectorizer(stop_words=english_stopwords, n_features=2**14)\n",
    "Tfidf_vectorizer = TfidfVectorizer(stop_words=english_stopwords, max_features=10000)\n",
    "\n",
    "# Models\n",
    "logistic_model = LogisticRegression(class_weight='balanced', random_state=42)\n",
    "forest_model = RandomForestClassifier(class_weight='balanced', random_state=42)\n",
    "svm_model = SVC(class_weight='balanced', random_state=42, probability=True)\n",
    "multiNB_model = MultinomialNB()\n",
    "\n",
    "# Define target names based on y_train columns\n",
    "target_names = y_train.columns.tolist()"
   ]
  },
  {
   "cell_type": "markdown",
   "metadata": {},
   "source": [
    "### 2.3 Define the parameter grids to tune.\n",
    "\n",
    "Since there arn't any standards in setting the parameters, the parameters values for the grids are built on heuristics. This can be done using the function gridSearchCV() in scikit-learn, cited from [a SVM tutorial](https://www.hackerearth.com/blog/developers/simple-tutorial-svm-parameter-tuning-python-r/#:~:text=One%20can%20tune%20the%20SVM,learn%20is%20called%20gridSearchCV().&text=Parameters%20of%20this%20function%20are,estimator%20object%20which%20is%20svm).\n",
    "\n",
    "Logistic regression: `max iteration` and `C`. Descriptions can be found in the [documentation](https://scikit-learn.org/stable/modules/generated/sklearn.linear_model.LogisticRegression.html) ;\n",
    "\n",
    "Random forest: `n_estimators` and `max depth`. Descriptions can be found in the [documentation](https://scikit-learn.org/stable/modules/generated/sklearn.ensemble.RandomForestClassifier.html) ;\n",
    "\n",
    "SVM model: `𝐶`, `𝛾`, and the `kernel function`.  Descriptions can be found in the [documentation](https://scikit-learn.org/stable/modules/generated/sklearn.model_selection.GridSearchCV.html#) ;\n",
    "\n",
    "Multinomial NB: `alpha` and `fit_prior`. Descriptions can be found in the [documentation](https://scikit-learn.org/stable/modules/generated/sklearn.naive_bayes.MultinomialNB.html) , and its exmple usage can be found in [the blog post](https://stackoverflow.com/questions/33830959/multinomial-naive-bayes-parameter-alpha-setting-scikit-learn).\n",
    "\n",
    "There will be a 3*4-1 = 11 combinations tested (with the hashing vectorizer not applicable for the multinomialNB).\n",
    "\n",
    "All of the parameter grids are changed to adjust the multioutputclassifier.\n",
    "\n",
    "Here, the parameter grid names are different from the binary classification, this is suggested by a discussion board: \"For use without pipeline, put estimator__ before parameters\", https://stackoverflow.com/questions/43532811/gridsearch-over-multioutputregressor"
   ]
  },
  {
   "cell_type": "code",
   "execution_count": 12,
   "metadata": {},
   "outputs": [],
   "source": [
    "param_grid_logistic = {\n",
    "    'classifier__estimator__C': [0.01, 0.1, 1, 10, 100],\n",
    "    'classifier__estimator__max_iter': [500, 1000]\n",
    "}\n",
    "\n",
    "param_grid_randomforest = {\n",
    "    'classifier__estimator__n_estimators': [50, 100, 200],\n",
    "    'classifier__estimator__max_depth': [None, 10, 20, 30]\n",
    "}\n",
    "\n",
    "param_grid_svm = {\n",
    "    'classifier__estimator__C': [0.1, 1, 10],\n",
    "    'classifier__estimator__kernel': ['linear', 'rbf'],\n",
    "    'classifier__estimator__gamma': [0.01, 0.1, 1]\n",
    "}\n",
    "\n",
    "param_grid_NB = {\n",
    "    'classifier__estimator__alpha': [0.01, 0.1, 0.5, 1.0, 2.0],\n",
    "    'classifier__estimator__fit_prior': [True, False]\n",
    "}"
   ]
  },
  {
   "cell_type": "markdown",
   "metadata": {},
   "source": [
    "### 2.4 Logistic Regression"
   ]
  },
  {
   "cell_type": "code",
   "execution_count": 13,
   "metadata": {},
   "outputs": [
    {
     "name": "stdout",
     "output_type": "stream",
     "text": [
      "Fitting 10 folds for each of 10 candidates, totalling 100 fits\n",
      "Best Parameters: {'classifier__estimator__C': 0.1, 'classifier__estimator__max_iter': 500}\n",
      "Best Score: 0.3533333333333334\n",
      "Classification Report (Logistic Regression, count vectorizer, tuned):\n",
      "\n",
      "Classification Report for Conflict:\n",
      "              precision    recall  f1-score   support\n",
      "\n",
      "Not Conflict       0.76      0.86      0.81        37\n",
      "    Conflict       0.38      0.23      0.29        13\n",
      "\n",
      "    accuracy                           0.70        50\n",
      "   macro avg       0.57      0.55      0.55        50\n",
      "weighted avg       0.66      0.70      0.67        50\n",
      "\n",
      "ROC AUC for Conflict: 0.7318087318087318\n",
      "\n",
      "\n",
      "Classification Report for Economic Consequences:\n",
      "                           precision    recall  f1-score   support\n",
      "\n",
      "Not Economic Consequences       0.77      0.94      0.85        32\n",
      "    Economic Consequences       0.82      0.50      0.62        18\n",
      "\n",
      "                 accuracy                           0.78        50\n",
      "                macro avg       0.79      0.72      0.73        50\n",
      "             weighted avg       0.79      0.78      0.76        50\n",
      "\n",
      "ROC AUC for Economic Consequences: 0.8559027777777777\n",
      "\n",
      "\n",
      "Classification Report for Human Interest:\n",
      "                    precision    recall  f1-score   support\n",
      "\n",
      "Not Human Interest       0.67      0.84      0.74        19\n",
      "    Human Interest       0.88      0.74      0.81        31\n",
      "\n",
      "          accuracy                           0.78        50\n",
      "         macro avg       0.78      0.79      0.78        50\n",
      "      weighted avg       0.80      0.78      0.78        50\n",
      "\n",
      "ROC AUC for Human Interest: 0.8319185059422751\n",
      "\n",
      "\n",
      "Classification Report for Morality:\n",
      "              precision    recall  f1-score   support\n",
      "\n",
      "Not Morality       0.68      0.93      0.79        28\n",
      "    Morality       0.83      0.45      0.59        22\n",
      "\n",
      "    accuracy                           0.72        50\n",
      "   macro avg       0.76      0.69      0.69        50\n",
      "weighted avg       0.75      0.72      0.70        50\n",
      "\n",
      "ROC AUC for Morality: 0.7175324675324675\n",
      "\n",
      "Average cross-validation score: 0.35\n"
     ]
    }
   ],
   "source": [
    "train_and_tune_model(\"Classification Report (Logistic Regression, count vectorizer, tuned)\", X_train, y_train, X_val, y_val, target_names, logistic_model, count_vectorizer, param_grid_logistic);"
   ]
  },
  {
   "cell_type": "code",
   "execution_count": null,
   "metadata": {},
   "outputs": [
    {
     "name": "stdout",
     "output_type": "stream",
     "text": [
      "Fitting 10 folds for each of 10 candidates, totalling 100 fits\n",
      "Best Parameters: {'classifier__estimator__C': 1, 'classifier__estimator__max_iter': 500}\n",
      "Best Score: 0.3066666666666667\n",
      "Classification Report (Logistic Regression, hashing vectorizer, tuned):\n",
      "\n",
      "Classification Report for Conflict:\n",
      "              precision    recall  f1-score   support\n",
      "\n",
      "Not Conflict       0.77      0.89      0.82        37\n",
      "    Conflict       0.43      0.23      0.30        13\n",
      "\n",
      "    accuracy                           0.72        50\n",
      "   macro avg       0.60      0.56      0.56        50\n",
      "weighted avg       0.68      0.72      0.69        50\n",
      "\n",
      "ROC AUC for Conflict: 0.760914760914761\n",
      "\n",
      "\n",
      "Classification Report for Economic Consequences:\n",
      "                           precision    recall  f1-score   support\n",
      "\n",
      "Not Economic Consequences       0.82      0.97      0.89        32\n",
      "    Economic Consequences       0.92      0.61      0.73        18\n",
      "\n",
      "                 accuracy                           0.84        50\n",
      "                macro avg       0.87      0.79      0.81        50\n",
      "             weighted avg       0.85      0.84      0.83        50\n",
      "\n",
      "ROC AUC for Economic Consequences: 0.8298611111111112\n",
      "\n",
      "\n",
      "Classification Report for Human Interest:\n",
      "                    precision    recall  f1-score   support\n",
      "\n",
      "Not Human Interest       0.50      0.47      0.49        19\n",
      "    Human Interest       0.69      0.71      0.70        31\n",
      "\n",
      "          accuracy                           0.62        50\n",
      "         macro avg       0.59      0.59      0.59        50\n",
      "      weighted avg       0.62      0.62      0.62        50\n",
      "\n",
      "ROC AUC for Human Interest: 0.7062818336162988\n",
      "\n",
      "\n",
      "Classification Report for Morality:\n",
      "              precision    recall  f1-score   support\n",
      "\n",
      "Not Morality       0.68      0.75      0.71        28\n",
      "    Morality       0.63      0.55      0.59        22\n",
      "\n",
      "    accuracy                           0.66        50\n",
      "   macro avg       0.65      0.65      0.65        50\n",
      "weighted avg       0.66      0.66      0.66        50\n",
      "\n",
      "ROC AUC for Morality: 0.7435064935064934\n",
      "\n",
      "Average cross-validation score: 0.31\n"
     ]
    }
   ],
   "source": [
    "train_and_tune_model(\"Classification Report (Logistic Regression, hashing vectorizer, tuned)\",X_train, y_train, X_val, y_val, target_names, logistic_model, hashing_vectorizer, param_grid_logistic);"
   ]
  },
  {
   "cell_type": "code",
   "execution_count": null,
   "metadata": {},
   "outputs": [
    {
     "name": "stdout",
     "output_type": "stream",
     "text": [
      "Fitting 10 folds for each of 10 candidates, totalling 100 fits\n",
      "Best Parameters: {'classifier__estimator__C': 100, 'classifier__estimator__max_iter': 500}\n",
      "Best Score: 0.3\n",
      "Classification Report (Logistic Regression, Tf-idf vectorizer, tuned):\n",
      "\n",
      "Classification Report for Conflict:\n",
      "              precision    recall  f1-score   support\n",
      "\n",
      "Not Conflict       0.76      0.86      0.81        37\n",
      "    Conflict       0.38      0.23      0.29        13\n",
      "\n",
      "    accuracy                           0.70        50\n",
      "   macro avg       0.57      0.55      0.55        50\n",
      "weighted avg       0.66      0.70      0.67        50\n",
      "\n",
      "ROC AUC for Conflict: 0.7422037422037422\n",
      "\n",
      "\n",
      "Classification Report for Economic Consequences:\n",
      "                           precision    recall  f1-score   support\n",
      "\n",
      "Not Economic Consequences       0.88      0.91      0.89        32\n",
      "    Economic Consequences       0.82      0.78      0.80        18\n",
      "\n",
      "                 accuracy                           0.86        50\n",
      "                macro avg       0.85      0.84      0.85        50\n",
      "             weighted avg       0.86      0.86      0.86        50\n",
      "\n",
      "ROC AUC for Economic Consequences: 0.9114583333333333\n",
      "\n",
      "\n",
      "Classification Report for Human Interest:\n",
      "                    precision    recall  f1-score   support\n",
      "\n",
      "Not Human Interest       1.00      0.37      0.54        19\n",
      "    Human Interest       0.72      1.00      0.84        31\n",
      "\n",
      "          accuracy                           0.76        50\n",
      "         macro avg       0.86      0.68      0.69        50\n",
      "      weighted avg       0.83      0.76      0.72        50\n",
      "\n",
      "ROC AUC for Human Interest: 0.7555178268251274\n",
      "\n",
      "\n",
      "Classification Report for Morality:\n",
      "              precision    recall  f1-score   support\n",
      "\n",
      "Not Morality       0.71      0.79      0.75        28\n",
      "    Morality       0.68      0.59      0.63        22\n",
      "\n",
      "    accuracy                           0.70        50\n",
      "   macro avg       0.70      0.69      0.69        50\n",
      "weighted avg       0.70      0.70      0.70        50\n",
      "\n",
      "ROC AUC for Morality: 0.6850649350649352\n",
      "\n",
      "Average cross-validation score: 0.30\n"
     ]
    }
   ],
   "source": [
    "train_and_tune_model(\"Classification Report (Logistic Regression, Tf-idf vectorizer, tuned)\",X_train, y_train, X_val, y_val, target_names, logistic_model, Tfidf_vectorizer, param_grid_logistic);"
   ]
  },
  {
   "cell_type": "markdown",
   "metadata": {},
   "source": [
    "the following direct prediction classifier demonstrates satisfactory results for classification:\n",
    "1. Logistic Regression + Count Vectorizor for Human Interest, \n",
    "precision    recall  f1-score   support\n",
    "\n",
    "Not Human Interest       0.67      0.84      0.74        19\n",
    "    Human Interest       0.88      0.74      0.81        31\n",
    "          accuracy                           0.78        50\n",
    "         macro avg       0.78      0.79      0.78        50\n",
    "      weighted avg       0.80      0.78      0.78        50\n",
    "\n",
    "ROC AUC for Human Interest: 0.8319185059422751\n",
    "\n",
    "2. Logistic Regression + hashing vectorizer for Economic Consequences,\n",
    "Classification Report for Economic Consequences:\n",
    "                           precision    recall  f1-score   support\n",
    "\n",
    "Not Economic Consequences       0.82      0.97      0.89        32\n",
    "    Economic Consequences       0.92      0.61      0.73        18\n",
    "                 accuracy                           0.84        50\n",
    "                macro avg       0.87      0.79      0.81        50\n",
    "             weighted avg       0.85      0.84      0.83        50\n",
    "\n",
    "ROC AUC for Economic Consequences: 0.8298611111111112\n",
    "\n",
    "3. Logistic Regression + Tf-idf vectorizer for Economic Consequences,\n",
    "Classification Report for Economic Consequences:\n",
    "                           precision    recall  f1-score   support\n",
    "\n",
    "Not Economic Consequences       0.88      0.91      0.89        32\n",
    "    Economic Consequences       0.82      0.78      0.80        18\n",
    "                 accuracy                           0.86        50\n",
    "                macro avg       0.85      0.84      0.85        50\n",
    "             weighted avg       0.86      0.86      0.86        50\n",
    "\n",
    "ROC AUC for Economic Consequences: 0.9114583333333333\n",
    "\n",
    "For conflict and morality, logistic regression might not be a good candidate.\n",
    "\n",
    "In addition, the cross-validations scores are low (around 0.3), indicating that the classifier is not robust in predictive capability."
   ]
  },
  {
   "cell_type": "markdown",
   "metadata": {},
   "source": [
    "### 2.5 Random Forest"
   ]
  },
  {
   "cell_type": "code",
   "execution_count": null,
   "metadata": {},
   "outputs": [
    {
     "name": "stdout",
     "output_type": "stream",
     "text": [
      "Fitting 10 folds for each of 12 candidates, totalling 120 fits\n",
      "Best Parameters: {'classifier__estimator__max_depth': 30, 'classifier__estimator__n_estimators': 100}\n",
      "Best Score: 0.3666666666666667\n",
      "Classification Report (random forest, count vectorizer, tuned):\n",
      "\n",
      "Classification Report for Conflict:\n",
      "              precision    recall  f1-score   support\n",
      "\n",
      "Not Conflict       0.79      1.00      0.88        37\n",
      "    Conflict       1.00      0.23      0.38        13\n",
      "\n",
      "    accuracy                           0.80        50\n",
      "   macro avg       0.89      0.62      0.63        50\n",
      "weighted avg       0.84      0.80      0.75        50\n",
      "\n",
      "ROC AUC for Conflict: 0.7723492723492723\n",
      "\n",
      "\n",
      "Classification Report for Economic Consequences:\n",
      "                           precision    recall  f1-score   support\n",
      "\n",
      "Not Economic Consequences       0.78      1.00      0.88        32\n",
      "    Economic Consequences       1.00      0.50      0.67        18\n",
      "\n",
      "                 accuracy                           0.82        50\n",
      "                macro avg       0.89      0.75      0.77        50\n",
      "             weighted avg       0.86      0.82      0.80        50\n",
      "\n",
      "ROC AUC for Economic Consequences: 0.8715277777777777\n",
      "\n",
      "\n",
      "Classification Report for Human Interest:\n",
      "                    precision    recall  f1-score   support\n",
      "\n",
      "Not Human Interest       0.71      0.79      0.75        19\n",
      "    Human Interest       0.86      0.81      0.83        31\n",
      "\n",
      "          accuracy                           0.80        50\n",
      "         macro avg       0.79      0.80      0.79        50\n",
      "      weighted avg       0.81      0.80      0.80        50\n",
      "\n",
      "ROC AUC for Human Interest: 0.898132427843803\n",
      "\n",
      "\n",
      "Classification Report for Morality:\n",
      "              precision    recall  f1-score   support\n",
      "\n",
      "Not Morality       0.64      0.89      0.75        28\n",
      "    Morality       0.73      0.36      0.48        22\n",
      "\n",
      "    accuracy                           0.66        50\n",
      "   macro avg       0.68      0.63      0.62        50\n",
      "weighted avg       0.68      0.66      0.63        50\n",
      "\n",
      "ROC AUC for Morality: 0.7102272727272727\n",
      "\n",
      "Average cross-validation score: 0.37\n"
     ]
    }
   ],
   "source": [
    "train_and_tune_model(\"Classification Report (random forest, count vectorizer, tuned)\", X_train, y_train, X_val, y_val, target_names, forest_model, count_vectorizer, param_grid_randomforest);"
   ]
  },
  {
   "cell_type": "code",
   "execution_count": null,
   "metadata": {},
   "outputs": [
    {
     "name": "stdout",
     "output_type": "stream",
     "text": [
      "Fitting 10 folds for each of 12 candidates, totalling 120 fits\n",
      "Best Parameters: {'classifier__estimator__max_depth': 30, 'classifier__estimator__n_estimators': 50}\n",
      "Best Score: 0.3666666666666667\n",
      "Classification Report (random forest, hashing vectorizer, tuned):\n",
      "\n",
      "Classification Report for Conflict:\n",
      "              precision    recall  f1-score   support\n",
      "\n",
      "Not Conflict       0.78      0.97      0.87        37\n",
      "    Conflict       0.75      0.23      0.35        13\n",
      "\n",
      "    accuracy                           0.78        50\n",
      "   macro avg       0.77      0.60      0.61        50\n",
      "weighted avg       0.77      0.78      0.73        50\n",
      "\n",
      "ROC AUC for Conflict: 0.7827442827442828\n",
      "\n",
      "\n",
      "Classification Report for Economic Consequences:\n",
      "                           precision    recall  f1-score   support\n",
      "\n",
      "Not Economic Consequences       0.71      1.00      0.83        32\n",
      "    Economic Consequences       1.00      0.28      0.43        18\n",
      "\n",
      "                 accuracy                           0.74        50\n",
      "                macro avg       0.86      0.64      0.63        50\n",
      "             weighted avg       0.82      0.74      0.69        50\n",
      "\n",
      "ROC AUC for Economic Consequences: 0.8211805555555556\n",
      "\n",
      "\n",
      "Classification Report for Human Interest:\n",
      "                    precision    recall  f1-score   support\n",
      "\n",
      "Not Human Interest       0.72      0.68      0.70        19\n",
      "    Human Interest       0.81      0.84      0.83        31\n",
      "\n",
      "          accuracy                           0.78        50\n",
      "         macro avg       0.77      0.76      0.76        50\n",
      "      weighted avg       0.78      0.78      0.78        50\n",
      "\n",
      "ROC AUC for Human Interest: 0.8743633276740238\n",
      "\n",
      "\n",
      "Classification Report for Morality:\n",
      "              precision    recall  f1-score   support\n",
      "\n",
      "Not Morality       0.59      0.93      0.72        28\n",
      "    Morality       0.67      0.18      0.29        22\n",
      "\n",
      "    accuracy                           0.60        50\n",
      "   macro avg       0.63      0.56      0.50        50\n",
      "weighted avg       0.62      0.60      0.53        50\n",
      "\n",
      "ROC AUC for Morality: 0.7248376623376623\n",
      "\n",
      "Average cross-validation score: 0.37\n"
     ]
    }
   ],
   "source": [
    "train_and_tune_model(\"Classification Report (random forest, hashing vectorizer, tuned)\",X_train, y_train, X_val, y_val, target_names, forest_model, hashing_vectorizer, param_grid_randomforest);"
   ]
  },
  {
   "cell_type": "code",
   "execution_count": null,
   "metadata": {},
   "outputs": [
    {
     "name": "stdout",
     "output_type": "stream",
     "text": [
      "Fitting 10 folds for each of 12 candidates, totalling 120 fits\n",
      "Best Parameters: {'classifier__estimator__max_depth': 20, 'classifier__estimator__n_estimators': 50}\n",
      "Best Score: 0.3466666666666667\n",
      "Classification Report (random forest, Tf-idf vectorizer, tuned):\n",
      "\n",
      "Classification Report for Conflict:\n",
      "              precision    recall  f1-score   support\n",
      "\n",
      "Not Conflict       0.78      0.97      0.87        37\n",
      "    Conflict       0.75      0.23      0.35        13\n",
      "\n",
      "    accuracy                           0.78        50\n",
      "   macro avg       0.77      0.60      0.61        50\n",
      "weighted avg       0.77      0.78      0.73        50\n",
      "\n",
      "ROC AUC for Conflict: 0.8253638253638254\n",
      "\n",
      "\n",
      "Classification Report for Economic Consequences:\n",
      "                           precision    recall  f1-score   support\n",
      "\n",
      "Not Economic Consequences       0.74      1.00      0.85        32\n",
      "    Economic Consequences       1.00      0.39      0.56        18\n",
      "\n",
      "                 accuracy                           0.78        50\n",
      "                macro avg       0.87      0.69      0.71        50\n",
      "             weighted avg       0.84      0.78      0.75        50\n",
      "\n",
      "ROC AUC for Economic Consequences: 0.8368055555555556\n",
      "\n",
      "\n",
      "Classification Report for Human Interest:\n",
      "                    precision    recall  f1-score   support\n",
      "\n",
      "Not Human Interest       0.71      0.79      0.75        19\n",
      "    Human Interest       0.86      0.81      0.83        31\n",
      "\n",
      "          accuracy                           0.80        50\n",
      "         macro avg       0.79      0.80      0.79        50\n",
      "      weighted avg       0.81      0.80      0.80        50\n",
      "\n",
      "ROC AUC for Human Interest: 0.8760611205432937\n",
      "\n",
      "\n",
      "Classification Report for Morality:\n",
      "              precision    recall  f1-score   support\n",
      "\n",
      "Not Morality       0.62      0.89      0.74        28\n",
      "    Morality       0.70      0.32      0.44        22\n",
      "\n",
      "    accuracy                           0.64        50\n",
      "   macro avg       0.66      0.61      0.59        50\n",
      "weighted avg       0.66      0.64      0.60        50\n",
      "\n",
      "ROC AUC for Morality: 0.7378246753246753\n",
      "\n",
      "Average cross-validation score: 0.35\n"
     ]
    }
   ],
   "source": [
    "train_and_tune_model(\"Classification Report (random forest, Tf-idf vectorizer, tuned)\",X_train, y_train, X_val, y_val, target_names, forest_model, Tfidf_vectorizer, param_grid_randomforest);"
   ]
  },
  {
   "cell_type": "markdown",
   "metadata": {},
   "source": [
    "The following classifiers performed well:\n",
    "\n",
    "1. random forest + count vectorizer for human inerest,\n",
    "Classification Report for Human Interest:\n",
    "                    precision    recall  f1-score   support\n",
    "Not Human Interest       0.71      0.79      0.75        19\n",
    "    Human Interest       0.86      0.81      0.83        31\n",
    "          accuracy                           0.80        50\n",
    "         macro avg       0.79      0.80      0.79        50\n",
    "      weighted avg       0.81      0.80      0.80        50\n",
    "\n",
    "ROC AUC for Human Interest: 0.898132427843803\n",
    "\n",
    "2. random forest + Tf-idf vectorizer for human interest,\n",
    "Classification Report for Human Interest:\n",
    "                    precision    recall  f1-score   support\n",
    "\n",
    "Not Human Interest       0.71      0.79      0.75        19\n",
    "    Human Interest       0.86      0.81      0.83        31\n",
    "          accuracy                           0.80        50\n",
    "         macro avg       0.79      0.80      0.79        50\n",
    "      weighted avg       0.81      0.80      0.80        50\n",
    "\n",
    "ROC AUC for Human Interest: 0.8760611205432937\n",
    "\n",
    "The cross-validation scores are not significantly higher than using logistic regression."
   ]
  },
  {
   "cell_type": "markdown",
   "metadata": {},
   "source": [
    "### 2.6 SVM model"
   ]
  },
  {
   "cell_type": "code",
   "execution_count": null,
   "metadata": {},
   "outputs": [
    {
     "name": "stdout",
     "output_type": "stream",
     "text": [
      "Fitting 10 folds for each of 18 candidates, totalling 180 fits\n",
      "Best Parameters: {'classifier__estimator__C': 0.1, 'classifier__estimator__gamma': 0.01, 'classifier__estimator__kernel': 'linear'}\n",
      "Best Score: 0.36000000000000004\n",
      "Classification Report (SVM, count vectorizer, tuned):\n",
      "\n",
      "Classification Report for Conflict:\n",
      "              precision    recall  f1-score   support\n",
      "\n",
      "Not Conflict       0.78      0.86      0.82        37\n",
      "    Conflict       0.44      0.31      0.36        13\n",
      "\n",
      "    accuracy                           0.72        50\n",
      "   macro avg       0.61      0.59      0.59        50\n",
      "weighted avg       0.69      0.72      0.70        50\n",
      "\n",
      "ROC AUC for Conflict: 0.7401247401247402\n",
      "\n",
      "\n",
      "Classification Report for Economic Consequences:\n",
      "                           precision    recall  f1-score   support\n",
      "\n",
      "Not Economic Consequences       0.74      0.88      0.80        32\n",
      "    Economic Consequences       0.67      0.44      0.53        18\n",
      "\n",
      "                 accuracy                           0.72        50\n",
      "                macro avg       0.70      0.66      0.67        50\n",
      "             weighted avg       0.71      0.72      0.70        50\n",
      "\n",
      "ROC AUC for Economic Consequences: 0.8420138888888888\n",
      "\n",
      "\n",
      "Classification Report for Human Interest:\n",
      "                    precision    recall  f1-score   support\n",
      "\n",
      "Not Human Interest       0.60      0.79      0.68        19\n",
      "    Human Interest       0.84      0.68      0.75        31\n",
      "\n",
      "          accuracy                           0.72        50\n",
      "         macro avg       0.72      0.73      0.72        50\n",
      "      weighted avg       0.75      0.72      0.72        50\n",
      "\n",
      "ROC AUC for Human Interest: 0.833616298811545\n",
      "\n",
      "\n",
      "Classification Report for Morality:\n",
      "              precision    recall  f1-score   support\n",
      "\n",
      "Not Morality       0.71      0.89      0.79        28\n",
      "    Morality       0.80      0.55      0.65        22\n",
      "\n",
      "    accuracy                           0.74        50\n",
      "   macro avg       0.76      0.72      0.72        50\n",
      "weighted avg       0.75      0.74      0.73        50\n",
      "\n",
      "ROC AUC for Morality: 0.7288961038961038\n",
      "\n",
      "Average cross-validation score: 0.36\n"
     ]
    }
   ],
   "source": [
    "train_and_tune_model(\"Classification Report (SVM, count vectorizer, tuned)\", X_train, y_train, X_val, y_val, target_names, svm_model, count_vectorizer, param_grid_svm);"
   ]
  },
  {
   "cell_type": "code",
   "execution_count": null,
   "metadata": {},
   "outputs": [
    {
     "name": "stdout",
     "output_type": "stream",
     "text": [
      "Fitting 10 folds for each of 18 candidates, totalling 180 fits\n",
      "Best Parameters: {'classifier__estimator__C': 10, 'classifier__estimator__gamma': 1, 'classifier__estimator__kernel': 'rbf'}\n",
      "Best Score: 0.3066666666666667\n",
      "Classification Report (SVM, hashing vectorizer, tuned):\n",
      "\n",
      "Classification Report for Conflict:\n",
      "              precision    recall  f1-score   support\n",
      "\n",
      "Not Conflict       0.78      0.97      0.87        37\n",
      "    Conflict       0.75      0.23      0.35        13\n",
      "\n",
      "    accuracy                           0.78        50\n",
      "   macro avg       0.77      0.60      0.61        50\n",
      "weighted avg       0.77      0.78      0.73        50\n",
      "\n",
      "ROC AUC for Conflict: 0.7525987525987528\n",
      "\n",
      "\n",
      "Classification Report for Economic Consequences:\n",
      "                           precision    recall  f1-score   support\n",
      "\n",
      "Not Economic Consequences       0.78      1.00      0.88        32\n",
      "    Economic Consequences       1.00      0.50      0.67        18\n",
      "\n",
      "                 accuracy                           0.82        50\n",
      "                macro avg       0.89      0.75      0.77        50\n",
      "             weighted avg       0.86      0.82      0.80        50\n",
      "\n",
      "ROC AUC for Economic Consequences: 0.8784722222222221\n",
      "\n",
      "\n",
      "Classification Report for Human Interest:\n",
      "                    precision    recall  f1-score   support\n",
      "\n",
      "Not Human Interest       0.78      0.37      0.50        19\n",
      "    Human Interest       0.71      0.94      0.81        31\n",
      "\n",
      "          accuracy                           0.72        50\n",
      "         macro avg       0.74      0.65      0.65        50\n",
      "      weighted avg       0.73      0.72      0.69        50\n",
      "\n",
      "ROC AUC for Human Interest: 0.7843803056027165\n",
      "\n",
      "\n",
      "Classification Report for Morality:\n",
      "              precision    recall  f1-score   support\n",
      "\n",
      "Not Morality       0.67      0.86      0.75        28\n",
      "    Morality       0.71      0.45      0.56        22\n",
      "\n",
      "    accuracy                           0.68        50\n",
      "   macro avg       0.69      0.66      0.65        50\n",
      "weighted avg       0.69      0.68      0.66        50\n",
      "\n",
      "ROC AUC for Morality: 0.7167207792207793\n",
      "\n",
      "Average cross-validation score: 0.31\n"
     ]
    }
   ],
   "source": [
    "train_and_tune_model(\"Classification Report (SVM, hashing vectorizer, tuned)\",X_train, y_train, X_val, y_val, target_names, svm_model, hashing_vectorizer, param_grid_svm);"
   ]
  },
  {
   "cell_type": "code",
   "execution_count": null,
   "metadata": {},
   "outputs": [
    {
     "name": "stdout",
     "output_type": "stream",
     "text": [
      "Fitting 10 folds for each of 18 candidates, totalling 180 fits\n",
      "Best Parameters: {'classifier__estimator__C': 10, 'classifier__estimator__gamma': 0.01, 'classifier__estimator__kernel': 'linear'}\n",
      "Best Score: 0.3\n",
      "Classification Report (SVM, Tf-idf vectorizer, tuned):\n",
      "\n",
      "Classification Report for Conflict:\n",
      "              precision    recall  f1-score   support\n",
      "\n",
      "Not Conflict       0.77      0.89      0.82        37\n",
      "    Conflict       0.43      0.23      0.30        13\n",
      "\n",
      "    accuracy                           0.72        50\n",
      "   macro avg       0.60      0.56      0.56        50\n",
      "weighted avg       0.68      0.72      0.69        50\n",
      "\n",
      "ROC AUC for Conflict: 0.7193347193347194\n",
      "\n",
      "\n",
      "Classification Report for Economic Consequences:\n",
      "                           precision    recall  f1-score   support\n",
      "\n",
      "Not Economic Consequences       0.85      0.91      0.88        32\n",
      "    Economic Consequences       0.81      0.72      0.76        18\n",
      "\n",
      "                 accuracy                           0.84        50\n",
      "                macro avg       0.83      0.81      0.82        50\n",
      "             weighted avg       0.84      0.84      0.84        50\n",
      "\n",
      "ROC AUC for Economic Consequences: 0.9166666666666666\n",
      "\n",
      "\n",
      "Classification Report for Human Interest:\n",
      "                    precision    recall  f1-score   support\n",
      "\n",
      "Not Human Interest       1.00      0.42      0.59        19\n",
      "    Human Interest       0.74      1.00      0.85        31\n",
      "\n",
      "          accuracy                           0.78        50\n",
      "         macro avg       0.87      0.71      0.72        50\n",
      "      weighted avg       0.84      0.78      0.75        50\n",
      "\n",
      "ROC AUC for Human Interest: 0.7623089983022071\n",
      "\n",
      "\n",
      "Classification Report for Morality:\n",
      "              precision    recall  f1-score   support\n",
      "\n",
      "Not Morality       0.69      0.79      0.73        28\n",
      "    Morality       0.67      0.55      0.60        22\n",
      "\n",
      "    accuracy                           0.68        50\n",
      "   macro avg       0.68      0.67      0.67        50\n",
      "weighted avg       0.68      0.68      0.67        50\n",
      "\n",
      "ROC AUC for Morality: 0.6737012987012987\n",
      "\n",
      "Average cross-validation score: 0.30\n"
     ]
    }
   ],
   "source": [
    "train_and_tune_model(\"Classification Report (SVM, Tf-idf vectorizer, tuned)\",X_train, y_train, X_val, y_val, target_names, svm_model, Tfidf_vectorizer, param_grid_svm);"
   ]
  },
  {
   "cell_type": "markdown",
   "metadata": {},
   "source": [
    "The following classifiers performed well:\n",
    "\n",
    "1. SVM + Tf-idf vectorizer for Economic Consequences\n",
    "Classification Report for Economic Consequences:\n",
    "                           precision    recall  f1-score   support\n",
    "\n",
    "Not Economic Consequences       0.85      0.91      0.88        32\n",
    "    Economic Consequences       0.81      0.72      0.76        18\n",
    "                 accuracy                           0.84        50\n",
    "                macro avg       0.83      0.81      0.82        50\n",
    "             weighted avg       0.84      0.84      0.84        50\n",
    "\n",
    "ROC AUC for Economic Consequences: 0.9166666666666666\n",
    "\n",
    "2. SVM + count vectorizer for Morality,\n",
    "Classification Report for Morality:\n",
    "              precision    recall  f1-score   support\n",
    "\n",
    "Not Morality       0.71      0.89      0.79        28\n",
    "    Morality       0.80      0.55      0.65        22\n",
    "    accuracy                           0.74        50\n",
    "   macro avg       0.76      0.72      0.72        50\n",
    "weighted avg       0.75      0.74      0.73        50\n",
    "\n",
    "ROC AUC for Morality: 0.7288961038961038\n"
   ]
  },
  {
   "cell_type": "markdown",
   "metadata": {},
   "source": [
    "### 2.7 multinomialNB"
   ]
  },
  {
   "cell_type": "code",
   "execution_count": null,
   "metadata": {},
   "outputs": [
    {
     "name": "stdout",
     "output_type": "stream",
     "text": [
      "Fitting 10 folds for each of 10 candidates, totalling 100 fits\n",
      "Best Parameters: {'classifier__estimator__alpha': 2.0, 'classifier__estimator__fit_prior': False}\n",
      "Best Score: 0.25999999999999995\n",
      "Classification Report (MultinomialNB, count vectorizer, tuned):\n",
      "\n",
      "Classification Report for Conflict:\n",
      "              precision    recall  f1-score   support\n",
      "\n",
      "Not Conflict       0.86      0.86      0.86        37\n",
      "    Conflict       0.62      0.62      0.62        13\n",
      "\n",
      "    accuracy                           0.80        50\n",
      "   macro avg       0.74      0.74      0.74        50\n",
      "weighted avg       0.80      0.80      0.80        50\n",
      "\n",
      "ROC AUC for Conflict: 0.7037422037422038\n",
      "\n",
      "\n",
      "Classification Report for Economic Consequences:\n",
      "                           precision    recall  f1-score   support\n",
      "\n",
      "Not Economic Consequences       0.93      0.81      0.87        32\n",
      "    Economic Consequences       0.73      0.89      0.80        18\n",
      "\n",
      "                 accuracy                           0.84        50\n",
      "                macro avg       0.83      0.85      0.83        50\n",
      "             weighted avg       0.86      0.84      0.84        50\n",
      "\n",
      "ROC AUC for Economic Consequences: 0.9296875\n",
      "\n",
      "\n",
      "Classification Report for Human Interest:\n",
      "                    precision    recall  f1-score   support\n",
      "\n",
      "Not Human Interest       0.80      0.21      0.33        19\n",
      "    Human Interest       0.67      0.97      0.79        31\n",
      "\n",
      "          accuracy                           0.68        50\n",
      "         macro avg       0.73      0.59      0.56        50\n",
      "      weighted avg       0.72      0.68      0.62        50\n",
      "\n",
      "ROC AUC for Human Interest: 0.7928692699490663\n",
      "\n",
      "\n",
      "Classification Report for Morality:\n",
      "              precision    recall  f1-score   support\n",
      "\n",
      "Not Morality       0.75      0.32      0.45        28\n",
      "    Morality       0.50      0.86      0.63        22\n",
      "\n",
      "    accuracy                           0.56        50\n",
      "   macro avg       0.62      0.59      0.54        50\n",
      "weighted avg       0.64      0.56      0.53        50\n",
      "\n",
      "ROC AUC for Morality: 0.6444805194805195\n",
      "\n",
      "Average cross-validation score: 0.26\n"
     ]
    }
   ],
   "source": [
    "train_and_tune_model(\"Classification Report (MultinomialNB, count vectorizer, tuned)\",X_train, y_train, X_val, y_val, target_names, multiNB_model, count_vectorizer, param_grid_NB);"
   ]
  },
  {
   "cell_type": "markdown",
   "metadata": {},
   "source": [
    "The hashing vectorizer will produce negative values, which cannot be processed by multinomialNB. Therefore, we proceed to the Tf-idf vectorizor."
   ]
  },
  {
   "cell_type": "code",
   "execution_count": null,
   "metadata": {},
   "outputs": [
    {
     "name": "stdout",
     "output_type": "stream",
     "text": [
      "Fitting 10 folds for each of 10 candidates, totalling 100 fits\n",
      "Best Parameters: {'classifier__estimator__alpha': 0.1, 'classifier__estimator__fit_prior': False}\n",
      "Best Score: 0.2800000000000001\n",
      "Classification Report (MultinomialNB, Tf-idf vectorizer, tuned):\n",
      "\n",
      "Classification Report for Conflict:\n",
      "              precision    recall  f1-score   support\n",
      "\n",
      "Not Conflict       0.81      0.92      0.86        37\n",
      "    Conflict       0.62      0.38      0.48        13\n",
      "\n",
      "    accuracy                           0.78        50\n",
      "   macro avg       0.72      0.65      0.67        50\n",
      "weighted avg       0.76      0.78      0.76        50\n",
      "\n",
      "ROC AUC for Conflict: 0.6943866943866944\n",
      "\n",
      "\n",
      "Classification Report for Economic Consequences:\n",
      "                           precision    recall  f1-score   support\n",
      "\n",
      "Not Economic Consequences       0.93      0.88      0.90        32\n",
      "    Economic Consequences       0.80      0.89      0.84        18\n",
      "\n",
      "                 accuracy                           0.88        50\n",
      "                macro avg       0.87      0.88      0.87        50\n",
      "             weighted avg       0.89      0.88      0.88        50\n",
      "\n",
      "ROC AUC for Economic Consequences: 0.953125\n",
      "\n",
      "\n",
      "Classification Report for Human Interest:\n",
      "                    precision    recall  f1-score   support\n",
      "\n",
      "Not Human Interest       0.90      0.47      0.62        19\n",
      "    Human Interest       0.75      0.97      0.85        31\n",
      "\n",
      "          accuracy                           0.78        50\n",
      "         macro avg       0.82      0.72      0.73        50\n",
      "      weighted avg       0.81      0.78      0.76        50\n",
      "\n",
      "ROC AUC for Human Interest: 0.8539898132427844\n",
      "\n",
      "\n",
      "Classification Report for Morality:\n",
      "              precision    recall  f1-score   support\n",
      "\n",
      "Not Morality       0.70      0.57      0.63        28\n",
      "    Morality       0.56      0.68      0.61        22\n",
      "\n",
      "    accuracy                           0.62        50\n",
      "   macro avg       0.63      0.63      0.62        50\n",
      "weighted avg       0.63      0.62      0.62        50\n",
      "\n",
      "ROC AUC for Morality: 0.6996753246753247\n",
      "\n",
      "Average cross-validation score: 0.28\n"
     ]
    }
   ],
   "source": [
    "train_and_tune_model(\"Classification Report (MultinomialNB, Tf-idf vectorizer, tuned)\",X_train, y_train, X_val, y_val, target_names, multiNB_model, Tfidf_vectorizer, param_grid_NB);"
   ]
  },
  {
   "cell_type": "markdown",
   "metadata": {},
   "source": [
    "The following classifiers performed well:\n",
    "\n",
    "1. MultinomialNB + count vectorizer for conflict,\n",
    "Classification Report for Conflict:\n",
    "              precision    recall  f1-score   support\n",
    "\n",
    "Not Conflict       0.86      0.86      0.86        37\n",
    "    Conflict       0.62      0.62      0.62        13\n",
    "    accuracy                           0.80        50\n",
    "   macro avg       0.74      0.74      0.74        50\n",
    "weighted avg       0.80      0.80      0.80        50\n",
    "\n",
    "ROC AUC for Conflict: 0.7037422037422038\n",
    "\n",
    "2. MultinomialNB + Tf-idf vectorizer for Economic Consequences\n",
    "Classification Report for Economic Consequences:\n",
    "                           precision    recall  f1-score   support\n",
    "\n",
    "Not Economic Consequences       0.93      0.88      0.90        32\n",
    "    Economic Consequences       0.80      0.89      0.84        18\n",
    "                 accuracy                           0.88        50\n",
    "                macro avg       0.87      0.88      0.87        50\n",
    "             weighted avg       0.89      0.88      0.88        50\n",
    "\n",
    "ROC AUC for Economic Consequences: 0.953125"
   ]
  },
  {
   "cell_type": "markdown",
   "metadata": {},
   "source": [
    "Conclusion"
   ]
  },
  {
   "cell_type": "markdown",
   "metadata": {},
   "source": [
    "The following classifiers stood out for each frame:\n",
    "\n",
    "Conflict:  MultinomialNB + count vectorizer\n",
    "\n",
    "Economic Consequences: MultinomialNB + Tf-idf vectorizer\n",
    "\n",
    "Human Interest: random forest + count vectorizer\n",
    "\n",
    "Morality: SVM + count vectorizer"
   ]
  },
  {
   "cell_type": "markdown",
   "metadata": {},
   "source": [
    "## 3. Individual Direct Classification"
   ]
  },
  {
   "cell_type": "markdown",
   "metadata": {},
   "source": [
    "Since all frames have different classifiers suitable, it is not sufficient to use multilabel classification. We apply individual direct classification to see if this method is better in classifying all frames more efficiently. However, it is also notable that this will not synthesis the frames as a multilabel approach. This will purely be fore better performance.\n",
    "\n",
    "In this direct classifier, a for-loop is created, so that different labels can be classified using different classifiers (i.e. the ones that we determined in the last block). In this way, we want the four frames all to be predicted the best."
   ]
  },
  {
   "cell_type": "code",
   "execution_count": 14,
   "metadata": {},
   "outputs": [],
   "source": [
    "def train_and_tune_directclassifier(X_train, y_train, X_val, y_val, vectorizers, models, param_grids, target_names, cv=10):\n",
    "    results = {}\n",
    "    for label, name in zip(target_names, target_names):\n",
    "        print(f\"Processing {name}...\")\n",
    "        \n",
    "        # Setup the pipeline\n",
    "        pipeline = Pipeline([\n",
    "            ('vectorizer', vectorizers[name]),\n",
    "            ('classifier', models[name])\n",
    "        ])\n",
    "        \n",
    "        # Setup Grid Search with cross-validation\n",
    "        grid_search = GridSearchCV(pipeline, param_grids[name], cv=cv, verbose=1, scoring='accuracy', n_jobs=1, error_score='raise')\n",
    "        \n",
    "        # Fit the grid search to the training data\n",
    "        grid_search.fit(X_train, y_train[label])\n",
    "\n",
    "        # Best parameters and best score\n",
    "        best_params = grid_search.best_params_\n",
    "        best_score = grid_search.best_score_\n",
    "\n",
    "        # Predict on the validation data using the best estimator\n",
    "        best_model = grid_search.best_estimator_\n",
    "        predictions = best_model.predict(X_val)\n",
    "\n",
    "        # Generate and print the classification report\n",
    "        report = classification_report(y_val[label], predictions, target_names=[f'Not {name}', name])\n",
    "        accuracy = accuracy_score(y_val[label], predictions)\n",
    "        \n",
    "        # Calculate ROC AUC if possible\n",
    "        roc_auc = None\n",
    "        if hasattr(best_model.named_steps['classifier'], \"predict_proba\"):\n",
    "            prob_predictions = best_model.named_steps['classifier'].predict_proba(best_model.named_steps['vectorizer'].transform(X_val))[:, 1]\n",
    "            roc_auc = roc_auc_score(y_val[label], prob_predictions)\n",
    "\n",
    "        # Perform cross-validation on the complete training dataset using the best estimator\n",
    "        cv_scores = cross_val_score(clone(best_model), X_train, y_train[label], cv=cv, scoring='accuracy')\n",
    "\n",
    "        # Store results\n",
    "        results[name] = {\n",
    "            'Best Parameters': best_params,\n",
    "            'Best Score': best_score,\n",
    "            'Classification Report': report,\n",
    "            'Accuracy': accuracy,\n",
    "            'ROC AUC': roc_auc,\n",
    "            'Cross-Validation Score': cv_scores.mean()\n",
    "        }\n",
    "        \n",
    "        # Print detailed results for the label\n",
    "        print(f\"Best Parameters for {name}: {best_params}\")\n",
    "        print(f\"Classification Report for {name}:\\n{report}\")\n",
    "        print(f\"ROC AUC for {name}: {roc_auc if roc_auc is not None else 'N/A'}\")\n",
    "        print(f\"Average Cross-Validation Score: {cv_scores.mean()}\\n\")\n",
    "    \n",
    "    return results"
   ]
  },
  {
   "cell_type": "markdown",
   "metadata": {},
   "source": [
    "Define vectorizers and models according to previous results:\n",
    "\n",
    "Here the parameter grids are re-defined because it's not a multilabel classification anymore, we need to remove the estimator_ so that it goes with binary classification."
   ]
  },
  {
   "cell_type": "code",
   "execution_count": 15,
   "metadata": {},
   "outputs": [],
   "source": [
    "vectorizers = {\n",
    "    'Conflict': count_vectorizer,\n",
    "    'Economic Consequences': Tfidf_vectorizer,\n",
    "    'Human Interest': count_vectorizer,\n",
    "    'Morality': count_vectorizer\n",
    "}\n",
    "\n",
    "models = {\n",
    "    'Conflict': multiNB_model,\n",
    "    'Economic Consequences': multiNB_model,\n",
    "    'Human Interest': forest_model,\n",
    "    'Morality': svm_model\n",
    "}\n",
    "\n",
    "\n",
    "param_grid_logistic_direct = {\n",
    "    'classifier__max_iter': [500, 1000],\n",
    "    'classifier__C': [0.01, 0.1, 1, 10, 100]\n",
    "}\n",
    "\n",
    "param_grid_randomforest_direct = {\n",
    "    'classifier__n_estimators': [50, 100, 200],\n",
    "    'classifier__max_depth': [None, 10, 20, 30]\n",
    "}\n",
    "\n",
    "param_grid_svm_direct = {\n",
    "    'classifier__C': [0.1, 1, 10],\n",
    "    'classifier__kernel': ['linear', 'rbf'],\n",
    "    'classifier__gamma': [0.01, 0.1, 1]\n",
    "}\n",
    "\n",
    "param_grid_NB_direct = {\n",
    "    'classifier__alpha': [0.01, 0.1, 0.5, 1.0, 2.0],\n",
    "    'classifier__fit_prior': [True, False]\n",
    "}\n",
    "\n",
    "param_grids = {\n",
    "    'Conflict': param_grid_NB_direct,\n",
    "    'Economic Consequences': param_grid_NB_direct,\n",
    "    'Human Interest': param_grid_randomforest_direct,\n",
    "    'Morality': param_grid_svm_direct\n",
    "}"
   ]
  },
  {
   "cell_type": "code",
   "execution_count": null,
   "metadata": {},
   "outputs": [
    {
     "name": "stdout",
     "output_type": "stream",
     "text": [
      "Processing Conflict...\n",
      "Fitting 10 folds for each of 10 candidates, totalling 100 fits\n",
      "Best Parameters for Conflict: {'classifier__alpha': 2.0, 'classifier__fit_prior': True}\n",
      "Classification Report for Conflict:\n",
      "              precision    recall  f1-score   support\n",
      "\n",
      "Not Conflict       0.83      0.92      0.87        37\n",
      "    Conflict       0.67      0.46      0.55        13\n",
      "\n",
      "    accuracy                           0.80        50\n",
      "   macro avg       0.75      0.69      0.71        50\n",
      "weighted avg       0.79      0.80      0.79        50\n",
      "\n",
      "ROC AUC for Conflict: 0.7037422037422038\n",
      "Average Cross-Validation Score: 0.7133333333333334\n",
      "\n",
      "Processing Economic Consequences...\n",
      "Fitting 10 folds for each of 10 candidates, totalling 100 fits\n",
      "Best Parameters for Economic Consequences: {'classifier__alpha': 2.0, 'classifier__fit_prior': False}\n",
      "Classification Report for Economic Consequences:\n",
      "                           precision    recall  f1-score   support\n",
      "\n",
      "Not Economic Consequences       0.86      0.94      0.90        32\n",
      "    Economic Consequences       0.87      0.72      0.79        18\n",
      "\n",
      "                 accuracy                           0.86        50\n",
      "                macro avg       0.86      0.83      0.84        50\n",
      "             weighted avg       0.86      0.86      0.86        50\n",
      "\n",
      "ROC AUC for Economic Consequences: 0.9409722222222222\n",
      "Average Cross-Validation Score: 0.7933333333333333\n",
      "\n",
      "Processing Human Interest...\n",
      "Fitting 10 folds for each of 12 candidates, totalling 120 fits\n",
      "Best Parameters for Human Interest: {'classifier__max_depth': 10, 'classifier__n_estimators': 50}\n",
      "Classification Report for Human Interest:\n",
      "                    precision    recall  f1-score   support\n",
      "\n",
      "Not Human Interest       0.67      0.74      0.70        19\n",
      "    Human Interest       0.83      0.77      0.80        31\n",
      "\n",
      "          accuracy                           0.76        50\n",
      "         macro avg       0.75      0.76      0.75        50\n",
      "      weighted avg       0.77      0.76      0.76        50\n",
      "\n",
      "ROC AUC for Human Interest: 0.8404074702886247\n",
      "Average Cross-Validation Score: 0.7933333333333332\n",
      "\n",
      "Processing Morality...\n",
      "Fitting 10 folds for each of 18 candidates, totalling 180 fits\n",
      "Best Parameters for Morality: {'classifier__C': 0.1, 'classifier__gamma': 0.01, 'classifier__kernel': 'linear'}\n",
      "Classification Report for Morality:\n",
      "              precision    recall  f1-score   support\n",
      "\n",
      "Not Morality       0.71      0.89      0.79        28\n",
      "    Morality       0.80      0.55      0.65        22\n",
      "\n",
      "    accuracy                           0.74        50\n",
      "   macro avg       0.76      0.72      0.72        50\n",
      "weighted avg       0.75      0.74      0.73        50\n",
      "\n",
      "ROC AUC for Morality: 0.7288961038961038\n",
      "Average Cross-Validation Score: 0.6133333333333333\n",
      "\n"
     ]
    },
    {
     "data": {
      "text/plain": [
       "{'Conflict': {'Best Parameters': {'classifier__alpha': 2.0,\n",
       "   'classifier__fit_prior': True},\n",
       "  'Best Score': 0.7133333333333334,\n",
       "  'Classification Report': '              precision    recall  f1-score   support\\n\\nNot Conflict       0.83      0.92      0.87        37\\n    Conflict       0.67      0.46      0.55        13\\n\\n    accuracy                           0.80        50\\n   macro avg       0.75      0.69      0.71        50\\nweighted avg       0.79      0.80      0.79        50\\n',\n",
       "  'Accuracy': 0.8,\n",
       "  'ROC AUC': 0.7037422037422038,\n",
       "  'Cross-Validation Score': 0.7133333333333334},\n",
       " 'Economic Consequences': {'Best Parameters': {'classifier__alpha': 2.0,\n",
       "   'classifier__fit_prior': False},\n",
       "  'Best Score': 0.7933333333333333,\n",
       "  'Classification Report': '                           precision    recall  f1-score   support\\n\\nNot Economic Consequences       0.86      0.94      0.90        32\\n    Economic Consequences       0.87      0.72      0.79        18\\n\\n                 accuracy                           0.86        50\\n                macro avg       0.86      0.83      0.84        50\\n             weighted avg       0.86      0.86      0.86        50\\n',\n",
       "  'Accuracy': 0.86,\n",
       "  'ROC AUC': 0.9409722222222222,\n",
       "  'Cross-Validation Score': 0.7933333333333333},\n",
       " 'Human Interest': {'Best Parameters': {'classifier__max_depth': 10,\n",
       "   'classifier__n_estimators': 50},\n",
       "  'Best Score': 0.7933333333333332,\n",
       "  'Classification Report': '                    precision    recall  f1-score   support\\n\\nNot Human Interest       0.67      0.74      0.70        19\\n    Human Interest       0.83      0.77      0.80        31\\n\\n          accuracy                           0.76        50\\n         macro avg       0.75      0.76      0.75        50\\n      weighted avg       0.77      0.76      0.76        50\\n',\n",
       "  'Accuracy': 0.76,\n",
       "  'ROC AUC': 0.8404074702886247,\n",
       "  'Cross-Validation Score': 0.7933333333333332},\n",
       " 'Morality': {'Best Parameters': {'classifier__C': 0.1,\n",
       "   'classifier__gamma': 0.01,\n",
       "   'classifier__kernel': 'linear'},\n",
       "  'Best Score': 0.6133333333333333,\n",
       "  'Classification Report': '              precision    recall  f1-score   support\\n\\nNot Morality       0.71      0.89      0.79        28\\n    Morality       0.80      0.55      0.65        22\\n\\n    accuracy                           0.74        50\\n   macro avg       0.76      0.72      0.72        50\\nweighted avg       0.75      0.74      0.73        50\\n',\n",
       "  'Accuracy': 0.74,\n",
       "  'ROC AUC': 0.7288961038961038,\n",
       "  'Cross-Validation Score': 0.6133333333333333}}"
      ]
     },
     "execution_count": 122,
     "metadata": {},
     "output_type": "execute_result"
    }
   ],
   "source": [
    "train_and_tune_directclassifier(X_train, y_train, X_val, y_val, vectorizers, models, param_grids, target_names, cv=10)"
   ]
  },
  {
   "cell_type": "markdown",
   "metadata": {},
   "source": [
    "The results show that separately predicting the four frames yielded to satisfactory results, which signs as a candidate for future training."
   ]
  },
  {
   "cell_type": "markdown",
   "metadata": {},
   "source": [
    "## 4. Ensemble-Based Direct Classification"
   ]
  },
  {
   "cell_type": "markdown",
   "metadata": {},
   "source": [
    "\"Our first approach is to improve binary classification decisions for indicator questions and for the presence of a frame by using an ensemble of binary-class linear classifiers (also depicted. The predictions of all these classifiers are the features for a final classifier. The ensemble includes different linear support vector machines (SVMs), linear rank-based SVMs, and Perceptron-based algorithms. This ensemble-based approach aims to be flexible in dealing with the different complex characteristic of each of the classifications. We combine the classifiers in the ensemble using the same classifier as described above for the baseline approach.\" (Odijk et al., 2013)\n",
    "\n",
    "As is noted in the description, this will be a binary classification, where the four frames are considered separately. The VotingClassifier will be used to combine the predictions of the individual classifiers based on their probabilities (soft voting). The VotingClassifier is a Soft Voting/Majority Rule classifier for unfitted estimators. Here the voting is hard, the votingclassifier() uses predicted class labels for majority rule voting. Documentation can be found https://scikit-learn.org/stable/modules/generated/sklearn.ensemble.VotingClassifier.html\n",
    "\n",
    "Due to \"FutureWarning: The default value of `dual` will change from `True` to `'auto'` in 1.5. Set the value of `dual` explicitly to suppress the warning\", the linearSVC is set to dual=false manually."
   ]
  },
  {
   "cell_type": "code",
   "execution_count": 16,
   "metadata": {},
   "outputs": [],
   "source": [
    "\n",
    "classifiers = [\n",
    "    ('lr', LogisticRegression(solver='saga', penalty='l2', random_state=42, max_iter=1000)),\n",
    "    ('linear_svm', SVC(kernel='linear', probability=True)), \n",
    "    ('rank_svm', LinearSVC(dual=False)),  \n",
    "    ('perceptron', Perceptron(tol=1e-3))\n",
    "]\n",
    "\n",
    "# Configure a VotingClassifier for hard voting\n",
    "voting_classifier = VotingClassifier(estimators=classifiers, voting='hard')"
   ]
  },
  {
   "cell_type": "markdown",
   "metadata": {},
   "source": [
    "Define parameter grids for grid search. \n",
    "\n",
    "The grids can be found in the documentations of each model. Specifically: linear perceptron model class sklearn.linear_model.Perceptron(*, penalty=None, alpha=0.0001, l1_ratio=0.15, fit_intercept=True, max_iter=1000, tol=0.001, shuffle=True, verbose=0, eta0=1.0, n_jobs=None, random_state=0, early_stopping=False, validation_fraction=0.1, n_iter_no_change=5, class_weight=None, warm_start=False)https://scikit-learn.org/stable/modules/generated/sklearn.linear_model.Perceptron.html\n"
   ]
  },
  {
   "cell_type": "code",
   "execution_count": 17,
   "metadata": {},
   "outputs": [],
   "source": [
    "param_grid_ensemble = {\n",
    "    'classifier__lr__C': [0.1, 1, 10],\n",
    "    'classifier__linear_svm__C': [0.1, 1, 10],  \n",
    "    'classifier__perceptron__alpha': [0.0001, 0.001, 0.01],\n",
    "    'classifier__perceptron__tol': [1e-3, 1e-4, 1e-5] \n",
    "}"
   ]
  },
  {
   "cell_type": "code",
   "execution_count": 18,
   "metadata": {},
   "outputs": [],
   "source": [
    "def train_tune_validate_model(X_train, y_train, X_val, y_val, frames):\n",
    "    tfidf_vectorizer = TfidfVectorizer(stop_words='english', max_features=10000, sublinear_tf=True, min_df=5, norm='l2', encoding='latin-1', ngram_range=(1, 2))\n",
    "\n",
    "    results = {}\n",
    "    \n",
    "    for frame in frames:\n",
    "        voting_classifier = VotingClassifier(estimators=classifiers, voting='hard')\n",
    "        pipeline = Pipeline([\n",
    "            ('tfidf', tfidf_vectorizer),\n",
    "            ('classifier', voting_classifier)\n",
    "        ])\n",
    "        \n",
    "        grid_search = GridSearchCV(pipeline, param_grid_ensemble, cv=5, verbose=1, scoring='accuracy')\n",
    "        grid_search.fit(X_train, y_train[frame])\n",
    "        \n",
    "        best_model = grid_search.best_estimator_\n",
    "        predictions = best_model.predict(X_val)\n",
    "        report = classification_report(y_val[frame], predictions)\n",
    "        \n",
    "        results[frame] = {\n",
    "            'Best Parameters': grid_search.best_params_,\n",
    "            'Best Score': grid_search.best_score_,\n",
    "            'Classification Report': report\n",
    "        }\n",
    "    \n",
    "    return results"
   ]
  },
  {
   "cell_type": "code",
   "execution_count": null,
   "metadata": {},
   "outputs": [
    {
     "name": "stdout",
     "output_type": "stream",
     "text": [
      "Fitting 5 folds for each of 81 candidates, totalling 405 fits\n",
      "Fitting 5 folds for each of 81 candidates, totalling 405 fits\n",
      "Fitting 5 folds for each of 81 candidates, totalling 405 fits\n",
      "Fitting 5 folds for each of 81 candidates, totalling 405 fits\n",
      "Results for Conflict:\n",
      "Best Parameters: {'classifier__linear_svm__C': 0.1, 'classifier__lr__C': 10, 'classifier__perceptron__alpha': 0.0001, 'classifier__perceptron__tol': 0.001}\n",
      "Best Score: 0.7933333333333333\n",
      "Classification Report:\n",
      "              precision    recall  f1-score   support\n",
      "\n",
      "           0       0.78      0.97      0.87        37\n",
      "           1       0.75      0.23      0.35        13\n",
      "\n",
      "    accuracy                           0.78        50\n",
      "   macro avg       0.77      0.60      0.61        50\n",
      "weighted avg       0.77      0.78      0.73        50\n",
      "\n",
      "\n",
      "\n",
      "Results for Economic Consequences:\n",
      "Best Parameters: {'classifier__linear_svm__C': 1, 'classifier__lr__C': 10, 'classifier__perceptron__alpha': 0.0001, 'classifier__perceptron__tol': 0.001}\n",
      "Best Score: 0.7866666666666666\n",
      "Classification Report:\n",
      "              precision    recall  f1-score   support\n",
      "\n",
      "           0       0.82      0.97      0.89        32\n",
      "           1       0.92      0.61      0.73        18\n",
      "\n",
      "    accuracy                           0.84        50\n",
      "   macro avg       0.87      0.79      0.81        50\n",
      "weighted avg       0.85      0.84      0.83        50\n",
      "\n",
      "\n",
      "\n",
      "Results for Human Interest:\n",
      "Best Parameters: {'classifier__linear_svm__C': 10, 'classifier__lr__C': 0.1, 'classifier__perceptron__alpha': 0.0001, 'classifier__perceptron__tol': 0.001}\n",
      "Best Score: 0.74\n",
      "Classification Report:\n",
      "              precision    recall  f1-score   support\n",
      "\n",
      "           0       0.60      0.47      0.53        19\n",
      "           1       0.71      0.81      0.76        31\n",
      "\n",
      "    accuracy                           0.68        50\n",
      "   macro avg       0.66      0.64      0.64        50\n",
      "weighted avg       0.67      0.68      0.67        50\n",
      "\n",
      "\n",
      "\n",
      "Results for Morality:\n",
      "Best Parameters: {'classifier__linear_svm__C': 0.1, 'classifier__lr__C': 1, 'classifier__perceptron__alpha': 0.0001, 'classifier__perceptron__tol': 0.001}\n",
      "Best Score: 0.6466666666666666\n",
      "Classification Report:\n",
      "              precision    recall  f1-score   support\n",
      "\n",
      "           0       0.62      0.93      0.74        28\n",
      "           1       0.75      0.27      0.40        22\n",
      "\n",
      "    accuracy                           0.64        50\n",
      "   macro avg       0.68      0.60      0.57        50\n",
      "weighted avg       0.68      0.64      0.59        50\n",
      "\n",
      "\n",
      "\n"
     ]
    }
   ],
   "source": [
    "frames = ['Conflict', 'Economic Consequences', 'Human Interest', 'Morality']\n",
    "results = train_tune_validate_model(X_train, y_train, X_val, y_val, frames)\n",
    "\n",
    "for frame, result in results.items():\n",
    "    print(f\"Results for {frame}:\")\n",
    "    print(\"Best Parameters:\", result['Best Parameters'])\n",
    "    print(\"Best Score:\", result['Best Score'])\n",
    "    print(\"Classification Report:\")\n",
    "    print(result['Classification Report'])\n",
    "    print(\"\\n\")"
   ]
  },
  {
   "cell_type": "markdown",
   "metadata": {},
   "source": [
    "The ensembled approach is satisfactory, but is did not outperform the direct classifications. Therefore, the final model will only consider the direct classification method."
   ]
  },
  {
   "cell_type": "markdown",
   "metadata": {},
   "source": [
    "The other two approaches according to Odijk et al. (2013) are indicator-question based. However, since the labeled data are not labeled question-by-question but frame-by-frame, the report will move on to the non-BOW approaches for predicion."
   ]
  },
  {
   "cell_type": "markdown",
   "metadata": {},
   "source": [
    "# Non-BOW approach"
   ]
  },
  {
   "cell_type": "markdown",
   "metadata": {},
   "source": [
    "## 4.0 Define functions"
   ]
  },
  {
   "cell_type": "markdown",
   "metadata": {},
   "source": [
    "train_and_tune_model_nonBOW_direct and train_and_tune_model_nonBOW_ensemble for testing the non-BOW classifiers. Here, both the multi-label classifier and the ensemble classifier will be tested for better performance"
   ]
  },
  {
   "cell_type": "code",
   "execution_count": 19,
   "metadata": {},
   "outputs": [],
   "source": [
    "def train_and_tune_model_nonBOW_direct(title, X_train, y_train, X_val, y_val, target_names, model, param_grid, cv=10):\n",
    "    # Create the pipeline with the classifier wrapped in MultiOutputClassifier\n",
    "    pipeline = Pipeline([\n",
    "        ('classifier', MultiOutputClassifier(model))\n",
    "    ])\n",
    "\n",
    "    # Setup Grid Search with cross-validation\n",
    "    grid_search = GridSearchCV(pipeline, param_grid, cv=cv, verbose=1, scoring='accuracy', n_jobs=1, error_score='raise')\n",
    "\n",
    "    # Fit the grid search to the training data\n",
    "    grid_search.fit(X_train, y_train)\n",
    "\n",
    "    # Best parameters and best score\n",
    "    best_params = grid_search.best_params_\n",
    "    best_score = grid_search.best_score_\n",
    "\n",
    "    # Predict on the validation data using the best estimator\n",
    "    best_model = grid_search.best_estimator_\n",
    "    predictions = best_model.predict(X_val)\n",
    "\n",
    "    # Ensure y_val is a numpy array for indexing\n",
    "    y_val_np = y_val.values\n",
    "\n",
    "    # Generate and print the classification report\n",
    "    reports = []\n",
    "    roc_aucs = []\n",
    "    for i, name in enumerate(target_names):\n",
    "        report = classification_report(y_val_np[:, i], predictions[:, i], target_names=[f'Not {name}', name])\n",
    "        reports.append(report)\n",
    "        \n",
    "        # Correctly access individual fitted model for each label to calculate ROC AUC\n",
    "        if hasattr(best_model.named_steps['classifier'].estimators_[i], \"predict_proba\"):\n",
    "            prob_predictions = best_model.named_steps['classifier'].estimators_[i].predict_proba(X_val)[:, 1]\n",
    "            roc_auc = roc_auc_score(y_val_np[:, i], prob_predictions)\n",
    "            roc_aucs.append(roc_auc)\n",
    "        else:\n",
    "            roc_aucs.append(None)\n",
    "    \n",
    "    # Perform cross-validation on the complete training dataset using the best estimator\n",
    "    cv_scores = cross_val_score(clone(best_model), X_train, y_train, cv=cv, scoring='accuracy')\n",
    "\n",
    "    # Print the results including the title\n",
    "    print(f\"Best Parameters: {best_params}\\nBest Score: {best_score}\\n{title}:\")\n",
    "    for report, roc_auc, name in zip(reports, roc_aucs, target_names):\n",
    "        print(f\"\\nClassification Report for {name}:\\n{report}\")\n",
    "        if roc_auc is not None:\n",
    "            print(f\"ROC AUC for {name}: {roc_auc}\\n\")\n",
    "    print(\"Average cross-validation score: {:.2f}\".format(cv_scores.mean()))\n",
    "\n",
    "    return best_params, best_score, reports, roc_aucs, cv_scores, predictions, best_model"
   ]
  },
  {
   "cell_type": "markdown",
   "metadata": {},
   "source": [
    "Here, the classifiers are re-defined, where the max_iter for logisticregression is raised to 10000, due to a warning message that occured \"ConvergenceWarning: The max_iter was reached which means the coef_ did not converge\""
   ]
  },
  {
   "cell_type": "code",
   "execution_count": 20,
   "metadata": {},
   "outputs": [],
   "source": [
    "# Define classifiers to be used in the ensemble, including a perceptron\n",
    "classifiers = [\n",
    "    ('lr', LogisticRegression(solver='saga', penalty='l2', random_state=42, max_iter=10000)),\n",
    "    ('linear_svm', SVC(kernel='linear', probability=True)),  # Linear SVM that supports probability\n",
    "    ('rank_svm', LinearSVC(dual=False)),  # Another linear model without probability support\n",
    "    ('perceptron', Perceptron(tol=1e-3))\n",
    "]"
   ]
  },
  {
   "cell_type": "code",
   "execution_count": 21,
   "metadata": {},
   "outputs": [],
   "source": [
    "def train_and_tune_model_nonBOW_ensemble(X_train, y_train, X_val, y_val, frames, classifiers, param_grid_ensemble):\n",
    "    results = {}\n",
    "    \n",
    "    for frame in frames:\n",
    "        voting_classifier = VotingClassifier(estimators=classifiers, voting='hard')\n",
    "        \n",
    "        # Since we're using pre-vectorized data, we only need the classifier in our pipeline\n",
    "        pipeline = Pipeline([\n",
    "            ('classifier', voting_classifier)\n",
    "        ])\n",
    "        \n",
    "        # Perform grid search\n",
    "        grid_search = GridSearchCV(pipeline, param_grid_ensemble, cv=5, verbose=1, scoring='accuracy')\n",
    "        grid_search.fit(X_train, y_train[frame])  # Ensure y_train is suitably formatted\n",
    "        \n",
    "        # Evaluate on validation set\n",
    "        best_model = grid_search.best_estimator_\n",
    "        predictions = best_model.predict(X_val)\n",
    "        report = classification_report(y_val[frame], predictions)\n",
    "        \n",
    "        results[frame] = {\n",
    "            'Best Parameters': grid_search.best_params_,\n",
    "            'Best Score': grid_search.best_score_,\n",
    "            'Classification Report': report\n",
    "        }\n",
    "    \n",
    "    return results"
   ]
  },
  {
   "cell_type": "markdown",
   "metadata": {},
   "source": [
    "## 4.1 Word Embeddings - Word2Vec"
   ]
  },
  {
   "cell_type": "markdown",
   "metadata": {},
   "source": [
    "### Training the model\n",
    "The Word2Vec approach starts with training the tokenized texts. Here, we use the complete dataset to train our model, so that we have more text resources."
   ]
  },
  {
   "cell_type": "code",
   "execution_count": 22,
   "metadata": {},
   "outputs": [],
   "source": [
    "W2V_data = pd.read_csv('Disability_videos_combined_shuffled_cleaned.csv')"
   ]
  },
  {
   "cell_type": "markdown",
   "metadata": {},
   "source": [
    "Before training the model, the texts must be converted into tokens first. This can be referred in [Exploring Word Embeddings and Semantic Similarity: Tokenization, Word2Vec in NLP](https://medium.com/@rokhaiyasultana97/exploring-word-embeddings-and-semantic-similarity-tokenization-word2vec-in-nlp-77b5a912f1e6)."
   ]
  },
  {
   "cell_type": "code",
   "execution_count": 23,
   "metadata": {},
   "outputs": [],
   "source": [
    "tokenized_texts = [text.split() for text in W2V_data['Description']]"
   ]
  },
  {
   "cell_type": "markdown",
   "metadata": {},
   "source": [
    "Train the Word2Vec model"
   ]
  },
  {
   "cell_type": "code",
   "execution_count": 24,
   "metadata": {},
   "outputs": [],
   "source": [
    "word2vec_model = Word2Vec(sentences=tokenized_texts, vector_size=100, window=5, min_count=1, workers=4)"
   ]
  },
  {
   "cell_type": "markdown",
   "metadata": {},
   "source": [
    "Check a few example words to see their embeddings"
   ]
  },
  {
   "cell_type": "code",
   "execution_count": 25,
   "metadata": {},
   "outputs": [
    {
     "name": "stdout",
     "output_type": "stream",
     "text": [
      "disability is almost the same as a process.\n",
      "insurance is almost the same as a long-term.\n",
      "social is almost the same as a importantly,.\n",
      "security is almost the same as a (SSI),.\n"
     ]
    }
   ],
   "source": [
    "example_words = ['disability', 'insurance', 'social', 'security']\n",
    "for example_word in example_words:\n",
    "    try:\n",
    "        print(f\"{example_word} is almost the same as a {word2vec_model.wv.most_similar(example_word)[0][0]}.\")\n",
    "    except Exception as e:\n",
    "        print(e)"
   ]
  },
  {
   "cell_type": "markdown",
   "metadata": {},
   "source": [
    "The results seem sarcastic, but successful from the first sight."
   ]
  },
  {
   "cell_type": "markdown",
   "metadata": {},
   "source": [
    "After tokenization, calculate the Average of Word2Vec vectors to represent the sentence vector. This is the solution from the [discussion board](https://stackoverflow.com/questions/29760935/how-to-get-vector-for-a-sentence-from-the-word2vec-of-tokens-in-sentence)."
   ]
  },
  {
   "cell_type": "code",
   "execution_count": 26,
   "metadata": {},
   "outputs": [],
   "source": [
    "X_train_tokens = [text.split() for text in X_train]\n",
    "X_val_tokens = [text.split() for text in X_val]"
   ]
  },
  {
   "cell_type": "markdown",
   "metadata": {},
   "source": [
    "Function to calculate the document vector:"
   ]
  },
  {
   "cell_type": "code",
   "execution_count": 27,
   "metadata": {},
   "outputs": [],
   "source": [
    "def document_vector(nlp_it, doc_tokens):\n",
    "    word_vecs = [nlp_it.wv[word] for word in doc_tokens if word in nlp_it.wv]\n",
    "    return np.mean(word_vecs, axis=0) if len(word_vecs) > 0 else np.zeros(nlp_it.vector_size)"
   ]
  },
  {
   "cell_type": "markdown",
   "metadata": {},
   "source": [
    "Calculate the sentence vectors again using the word2vec model that we trained."
   ]
  },
  {
   "cell_type": "code",
   "execution_count": 28,
   "metadata": {},
   "outputs": [],
   "source": [
    "X_train_vecs_w2v = np.array([document_vector(word2vec_model, tokens) for tokens in X_train_tokens])\n",
    "X_val_vecs_w2v = np.array([document_vector(word2vec_model, tokens) for tokens in X_val_tokens])\n",
    "\n",
    "# Define target names based on y_train columns\n",
    "target_names = y_train.columns.tolist()"
   ]
  },
  {
   "cell_type": "markdown",
   "metadata": {},
   "source": [
    "### Testing the model: direct classification"
   ]
  },
  {
   "cell_type": "code",
   "execution_count": null,
   "metadata": {},
   "outputs": [
    {
     "name": "stdout",
     "output_type": "stream",
     "text": [
      "Fitting 10 folds for each of 10 candidates, totalling 100 fits\n",
      "Best Parameters: {'classifier__estimator__C': 10, 'classifier__estimator__max_iter': 500}\n",
      "Best Score: 0.3066666666666667\n",
      "Classification Report (Logistic Regression, Word2Vec, tuned):\n",
      "\n",
      "Classification Report for Conflict:\n",
      "              precision    recall  f1-score   support\n",
      "\n",
      "Not Conflict       0.82      0.73      0.77        37\n",
      "    Conflict       0.41      0.54      0.47        13\n",
      "\n",
      "    accuracy                           0.68        50\n",
      "   macro avg       0.61      0.63      0.62        50\n",
      "weighted avg       0.71      0.68      0.69        50\n",
      "\n",
      "ROC AUC for Conflict: 0.7047817047817048\n",
      "\n",
      "\n",
      "Classification Report for Economic Consequences:\n",
      "                           precision    recall  f1-score   support\n",
      "\n",
      "Not Economic Consequences       0.81      0.78      0.79        32\n",
      "    Economic Consequences       0.63      0.67      0.65        18\n",
      "\n",
      "                 accuracy                           0.74        50\n",
      "                macro avg       0.72      0.72      0.72        50\n",
      "             weighted avg       0.74      0.74      0.74        50\n",
      "\n",
      "ROC AUC for Economic Consequences: 0.8055555555555556\n",
      "\n",
      "\n",
      "Classification Report for Human Interest:\n",
      "                    precision    recall  f1-score   support\n",
      "\n",
      "Not Human Interest       0.58      0.58      0.58        19\n",
      "    Human Interest       0.74      0.74      0.74        31\n",
      "\n",
      "          accuracy                           0.68        50\n",
      "         macro avg       0.66      0.66      0.66        50\n",
      "      weighted avg       0.68      0.68      0.68        50\n",
      "\n",
      "ROC AUC for Human Interest: 0.7147707979626485\n",
      "\n",
      "\n",
      "Classification Report for Morality:\n",
      "              precision    recall  f1-score   support\n",
      "\n",
      "Not Morality       0.68      0.54      0.60        28\n",
      "    Morality       0.54      0.68      0.60        22\n",
      "\n",
      "    accuracy                           0.60        50\n",
      "   macro avg       0.61      0.61      0.60        50\n",
      "weighted avg       0.62      0.60      0.60        50\n",
      "\n",
      "ROC AUC for Morality: 0.7191558441558441\n",
      "\n",
      "Average cross-validation score: 0.31\n"
     ]
    }
   ],
   "source": [
    "train_and_tune_model_nonBOW_direct(\"Classification Report (Logistic Regression, Word2Vec, tuned)\", X_train_vecs_w2v, y_train, X_val_vecs_w2v, y_val, target_names, logistic_model, param_grid_logistic);"
   ]
  },
  {
   "cell_type": "code",
   "execution_count": null,
   "metadata": {},
   "outputs": [
    {
     "name": "stdout",
     "output_type": "stream",
     "text": [
      "Fitting 10 folds for each of 12 candidates, totalling 120 fits\n",
      "Best Parameters: {'classifier__estimator__max_depth': 10, 'classifier__estimator__n_estimators': 200}\n",
      "Best Score: 0.33333333333333337\n",
      "Classification Report (Random Forest, Word2Vec, tuned):\n",
      "\n",
      "Classification Report for Conflict:\n",
      "              precision    recall  f1-score   support\n",
      "\n",
      "Not Conflict       0.78      0.86      0.82        37\n",
      "    Conflict       0.44      0.31      0.36        13\n",
      "\n",
      "    accuracy                           0.72        50\n",
      "   macro avg       0.61      0.59      0.59        50\n",
      "weighted avg       0.69      0.72      0.70        50\n",
      "\n",
      "ROC AUC for Conflict: 0.7338877338877339\n",
      "\n",
      "\n",
      "Classification Report for Economic Consequences:\n",
      "                           precision    recall  f1-score   support\n",
      "\n",
      "Not Economic Consequences       0.76      0.91      0.83        32\n",
      "    Economic Consequences       0.75      0.50      0.60        18\n",
      "\n",
      "                 accuracy                           0.76        50\n",
      "                macro avg       0.76      0.70      0.71        50\n",
      "             weighted avg       0.76      0.76      0.75        50\n",
      "\n",
      "ROC AUC for Economic Consequences: 0.7699652777777777\n",
      "\n",
      "\n",
      "Classification Report for Human Interest:\n",
      "                    precision    recall  f1-score   support\n",
      "\n",
      "Not Human Interest       0.71      0.63      0.67        19\n",
      "    Human Interest       0.79      0.84      0.81        31\n",
      "\n",
      "          accuracy                           0.76        50\n",
      "         macro avg       0.75      0.74      0.74        50\n",
      "      weighted avg       0.76      0.76      0.76        50\n",
      "\n",
      "ROC AUC for Human Interest: 0.7971137521222411\n",
      "\n",
      "\n",
      "Classification Report for Morality:\n",
      "              precision    recall  f1-score   support\n",
      "\n",
      "Not Morality       0.75      0.75      0.75        28\n",
      "    Morality       0.68      0.68      0.68        22\n",
      "\n",
      "    accuracy                           0.72        50\n",
      "   macro avg       0.72      0.72      0.72        50\n",
      "weighted avg       0.72      0.72      0.72        50\n",
      "\n",
      "ROC AUC for Morality: 0.7686688311688311\n",
      "\n",
      "Average cross-validation score: 0.33\n"
     ]
    }
   ],
   "source": [
    "train_and_tune_model_nonBOW_direct(\"Classification Report (Random Forest, Word2Vec, tuned)\", X_train_vecs_w2v, y_train, X_val_vecs_w2v, y_val, target_names, forest_model, param_grid_randomforest);"
   ]
  },
  {
   "cell_type": "code",
   "execution_count": null,
   "metadata": {},
   "outputs": [
    {
     "name": "stdout",
     "output_type": "stream",
     "text": [
      "Fitting 10 folds for each of 18 candidates, totalling 180 fits\n",
      "Best Parameters: {'classifier__estimator__C': 1, 'classifier__estimator__gamma': 0.01, 'classifier__estimator__kernel': 'linear'}\n",
      "Best Score: 0.3066666666666667\n",
      "Classification Report (SVM, Word2Vec, tuned):\n",
      "\n",
      "Classification Report for Conflict:\n",
      "              precision    recall  f1-score   support\n",
      "\n",
      "Not Conflict       0.83      0.65      0.73        37\n",
      "    Conflict       0.38      0.62      0.47        13\n",
      "\n",
      "    accuracy                           0.64        50\n",
      "   macro avg       0.60      0.63      0.60        50\n",
      "weighted avg       0.71      0.64      0.66        50\n",
      "\n",
      "ROC AUC for Conflict: 0.7110187110187111\n",
      "\n",
      "\n",
      "Classification Report for Economic Consequences:\n",
      "                           precision    recall  f1-score   support\n",
      "\n",
      "Not Economic Consequences       0.77      0.84      0.81        32\n",
      "    Economic Consequences       0.67      0.56      0.61        18\n",
      "\n",
      "                 accuracy                           0.74        50\n",
      "                macro avg       0.72      0.70      0.71        50\n",
      "             weighted avg       0.73      0.74      0.73        50\n",
      "\n",
      "ROC AUC for Economic Consequences: 0.78125\n",
      "\n",
      "\n",
      "Classification Report for Human Interest:\n",
      "                    precision    recall  f1-score   support\n",
      "\n",
      "Not Human Interest       0.60      0.63      0.62        19\n",
      "    Human Interest       0.77      0.74      0.75        31\n",
      "\n",
      "          accuracy                           0.70        50\n",
      "         macro avg       0.68      0.69      0.68        50\n",
      "      weighted avg       0.70      0.70      0.70        50\n",
      "\n",
      "ROC AUC for Human Interest: 0.7487266553480475\n",
      "\n",
      "\n",
      "Classification Report for Morality:\n",
      "              precision    recall  f1-score   support\n",
      "\n",
      "Not Morality       0.74      0.61      0.67        28\n",
      "    Morality       0.59      0.73      0.65        22\n",
      "\n",
      "    accuracy                           0.66        50\n",
      "   macro avg       0.67      0.67      0.66        50\n",
      "weighted avg       0.67      0.66      0.66        50\n",
      "\n",
      "ROC AUC for Morality: 0.7613636363636364\n",
      "\n",
      "Average cross-validation score: 0.31\n"
     ]
    }
   ],
   "source": [
    "train_and_tune_model_nonBOW_direct(\"Classification Report (SVM, Word2Vec, tuned)\", X_train_vecs_w2v, y_train, X_val_vecs_w2v, y_val, target_names, svm_model, param_grid_svm);"
   ]
  },
  {
   "cell_type": "markdown",
   "metadata": {},
   "source": [
    "## 4.2 Bert Model\n",
    "See Additional Google colab file."
   ]
  },
  {
   "cell_type": "markdown",
   "metadata": {},
   "source": [
    "# Final Model Prediction sing the Test Dataset"
   ]
  },
  {
   "cell_type": "markdown",
   "metadata": {},
   "source": [
    "Synthesizing the previous analysis, a direct classifier that uses different classification methods separately is the most optimal. Therefore, we will test it on the test dataset.\n",
    "\n",
    "In the beginning, the labeled data was split into train-validation-test groups. All previous training was done on the train and validation dataset. From now on, the entire X_train_val and y_train_val will be used to train the final modal, and X_test, y_test will be used to evaluate the performance parameters."
   ]
  },
  {
   "cell_type": "code",
   "execution_count": null,
   "metadata": {},
   "outputs": [
    {
     "name": "stdout",
     "output_type": "stream",
     "text": [
      "Processing Conflict...\n",
      "Fitting 10 folds for each of 10 candidates, totalling 100 fits\n",
      "Best Parameters for Conflict: {'classifier__alpha': 1.0, 'classifier__fit_prior': True}\n",
      "Classification Report for Conflict:\n",
      "              precision    recall  f1-score   support\n",
      "\n",
      "Not Conflict       0.73      0.67      0.70        33\n",
      "    Conflict       0.45      0.53      0.49        17\n",
      "\n",
      "    accuracy                           0.62        50\n",
      "   macro avg       0.59      0.60      0.59        50\n",
      "weighted avg       0.64      0.62      0.63        50\n",
      "\n",
      "ROC AUC for Conflict: 0.6559714795008913\n",
      "Average Cross-Validation Score: 0.755\n",
      "\n",
      "Processing Economic Consequences...\n",
      "Fitting 10 folds for each of 10 candidates, totalling 100 fits\n",
      "Best Parameters for Economic Consequences: {'classifier__alpha': 1.0, 'classifier__fit_prior': False}\n",
      "Classification Report for Economic Consequences:\n",
      "                           precision    recall  f1-score   support\n",
      "\n",
      "Not Economic Consequences       0.81      0.81      0.81        37\n",
      "    Economic Consequences       0.46      0.46      0.46        13\n",
      "\n",
      "                 accuracy                           0.72        50\n",
      "                macro avg       0.64      0.64      0.64        50\n",
      "             weighted avg       0.72      0.72      0.72        50\n",
      "\n",
      "ROC AUC for Economic Consequences: 0.7006237006237006\n",
      "Average Cross-Validation Score: 0.79\n",
      "\n",
      "Processing Human Interest...\n",
      "Fitting 10 folds for each of 12 candidates, totalling 120 fits\n",
      "Best Parameters for Human Interest: {'classifier__max_depth': None, 'classifier__n_estimators': 100}\n",
      "Classification Report for Human Interest:\n",
      "                    precision    recall  f1-score   support\n",
      "\n",
      "Not Human Interest       0.78      0.67      0.72        21\n",
      "    Human Interest       0.78      0.86      0.82        29\n",
      "\n",
      "          accuracy                           0.78        50\n",
      "         macro avg       0.78      0.76      0.77        50\n",
      "      weighted avg       0.78      0.78      0.78        50\n",
      "\n",
      "ROC AUC for Human Interest: 0.8440065681444991\n",
      "Average Cross-Validation Score: 0.795\n",
      "\n",
      "Processing Morality...\n",
      "Fitting 10 folds for each of 18 candidates, totalling 180 fits\n",
      "Best Parameters for Morality: {'classifier__C': 0.1, 'classifier__gamma': 0.01, 'classifier__kernel': 'linear'}\n",
      "Classification Report for Morality:\n",
      "              precision    recall  f1-score   support\n",
      "\n",
      "Not Morality       0.74      0.69      0.71        29\n",
      "    Morality       0.61      0.67      0.64        21\n",
      "\n",
      "    accuracy                           0.68        50\n",
      "   macro avg       0.67      0.68      0.68        50\n",
      "weighted avg       0.69      0.68      0.68        50\n",
      "\n",
      "ROC AUC for Morality: 0.7142857142857143\n",
      "Average Cross-Validation Score: 0.6649999999999999\n",
      "\n"
     ]
    },
    {
     "data": {
      "text/plain": [
       "{'Conflict': {'Best Parameters': {'classifier__alpha': 1.0,\n",
       "   'classifier__fit_prior': True},\n",
       "  'Best Score': 0.755,\n",
       "  'Classification Report': '              precision    recall  f1-score   support\\n\\nNot Conflict       0.73      0.67      0.70        33\\n    Conflict       0.45      0.53      0.49        17\\n\\n    accuracy                           0.62        50\\n   macro avg       0.59      0.60      0.59        50\\nweighted avg       0.64      0.62      0.63        50\\n',\n",
       "  'Accuracy': 0.62,\n",
       "  'ROC AUC': 0.6559714795008913,\n",
       "  'Cross-Validation Score': 0.755},\n",
       " 'Economic Consequences': {'Best Parameters': {'classifier__alpha': 1.0,\n",
       "   'classifier__fit_prior': False},\n",
       "  'Best Score': 0.79,\n",
       "  'Classification Report': '                           precision    recall  f1-score   support\\n\\nNot Economic Consequences       0.81      0.81      0.81        37\\n    Economic Consequences       0.46      0.46      0.46        13\\n\\n                 accuracy                           0.72        50\\n                macro avg       0.64      0.64      0.64        50\\n             weighted avg       0.72      0.72      0.72        50\\n',\n",
       "  'Accuracy': 0.72,\n",
       "  'ROC AUC': 0.7006237006237006,\n",
       "  'Cross-Validation Score': 0.79},\n",
       " 'Human Interest': {'Best Parameters': {'classifier__max_depth': None,\n",
       "   'classifier__n_estimators': 100},\n",
       "  'Best Score': 0.795,\n",
       "  'Classification Report': '                    precision    recall  f1-score   support\\n\\nNot Human Interest       0.78      0.67      0.72        21\\n    Human Interest       0.78      0.86      0.82        29\\n\\n          accuracy                           0.78        50\\n         macro avg       0.78      0.76      0.77        50\\n      weighted avg       0.78      0.78      0.78        50\\n',\n",
       "  'Accuracy': 0.78,\n",
       "  'ROC AUC': 0.8440065681444991,\n",
       "  'Cross-Validation Score': 0.795},\n",
       " 'Morality': {'Best Parameters': {'classifier__C': 0.1,\n",
       "   'classifier__gamma': 0.01,\n",
       "   'classifier__kernel': 'linear'},\n",
       "  'Best Score': 0.6649999999999999,\n",
       "  'Classification Report': '              precision    recall  f1-score   support\\n\\nNot Morality       0.74      0.69      0.71        29\\n    Morality       0.61      0.67      0.64        21\\n\\n    accuracy                           0.68        50\\n   macro avg       0.67      0.68      0.68        50\\nweighted avg       0.69      0.68      0.68        50\\n',\n",
       "  'Accuracy': 0.68,\n",
       "  'ROC AUC': 0.7142857142857143,\n",
       "  'Cross-Validation Score': 0.6649999999999999}}"
      ]
     },
     "execution_count": 123,
     "metadata": {},
     "output_type": "execute_result"
    }
   ],
   "source": [
    "train_and_tune_directclassifier(X_train_val, y_train_val, X_test, y_test, vectorizers, models, param_grids, target_names, cv=10)"
   ]
  },
  {
   "cell_type": "markdown",
   "metadata": {},
   "source": [
    "The result for conflict and economic consequences is especially unsatisfactory. Therefore, we will try some nice-performed multilabel classifiers and also the ensembled classifier here if we can reach better results.\n",
    "\n",
    "This is probably caused by the small amount of labeled data, which makes the results very unstable."
   ]
  },
  {
   "cell_type": "code",
   "execution_count": null,
   "metadata": {},
   "outputs": [
    {
     "name": "stdout",
     "output_type": "stream",
     "text": [
      "Fitting 10 folds for each of 10 candidates, totalling 100 fits\n",
      "Best Parameters: {'classifier__estimator__C': 1, 'classifier__estimator__max_iter': 500}\n",
      "Best Score: 0.305\n",
      "Classification Report (Logistic Regression, hashing vectorizer, tuned):\n",
      "\n",
      "Classification Report for Conflict:\n",
      "              precision    recall  f1-score   support\n",
      "\n",
      "Not Conflict       0.71      0.82      0.76        33\n",
      "    Conflict       0.50      0.35      0.41        17\n",
      "\n",
      "    accuracy                           0.66        50\n",
      "   macro avg       0.61      0.59      0.59        50\n",
      "weighted avg       0.64      0.66      0.64        50\n",
      "\n",
      "ROC AUC for Conflict: 0.7575757575757576\n",
      "\n",
      "\n",
      "Classification Report for Economic Consequences:\n",
      "                           precision    recall  f1-score   support\n",
      "\n",
      "Not Economic Consequences       0.84      0.84      0.84        37\n",
      "    Economic Consequences       0.54      0.54      0.54        13\n",
      "\n",
      "                 accuracy                           0.76        50\n",
      "                macro avg       0.69      0.69      0.69        50\n",
      "             weighted avg       0.76      0.76      0.76        50\n",
      "\n",
      "ROC AUC for Economic Consequences: 0.7130977130977131\n",
      "\n",
      "\n",
      "Classification Report for Human Interest:\n",
      "                    precision    recall  f1-score   support\n",
      "\n",
      "Not Human Interest       0.80      0.76      0.78        21\n",
      "    Human Interest       0.83      0.86      0.85        29\n",
      "\n",
      "          accuracy                           0.82        50\n",
      "         macro avg       0.82      0.81      0.81        50\n",
      "      weighted avg       0.82      0.82      0.82        50\n",
      "\n",
      "ROC AUC for Human Interest: 0.8078817733990148\n",
      "\n",
      "\n",
      "Classification Report for Morality:\n",
      "              precision    recall  f1-score   support\n",
      "\n",
      "Not Morality       0.77      0.79      0.78        29\n",
      "    Morality       0.70      0.67      0.68        21\n",
      "\n",
      "    accuracy                           0.74        50\n",
      "   macro avg       0.73      0.73      0.73        50\n",
      "weighted avg       0.74      0.74      0.74        50\n",
      "\n",
      "ROC AUC for Morality: 0.8341543513957307\n",
      "\n",
      "Average cross-validation score: 0.30\n"
     ]
    }
   ],
   "source": [
    "train_and_tune_model(\"Classification Report (Logistic Regression, hashing vectorizer, tuned)\", X_train_val, y_train_val, X_test, y_test, target_names, logistic_model, hashing_vectorizer, param_grid_logistic);"
   ]
  },
  {
   "cell_type": "code",
   "execution_count": null,
   "metadata": {},
   "outputs": [
    {
     "name": "stdout",
     "output_type": "stream",
     "text": [
      "Fitting 10 folds for each of 10 candidates, totalling 100 fits\n",
      "Best Parameters: {'classifier__estimator__alpha': 1.0, 'classifier__estimator__fit_prior': False}\n",
      "Best Score: 0.225\n",
      "Classification Report (MultinomialNB, count vectorizer, tuned):\n",
      "\n",
      "Classification Report for Conflict:\n",
      "              precision    recall  f1-score   support\n",
      "\n",
      "Not Conflict       0.73      0.67      0.70        33\n",
      "    Conflict       0.45      0.53      0.49        17\n",
      "\n",
      "    accuracy                           0.62        50\n",
      "   macro avg       0.59      0.60      0.59        50\n",
      "weighted avg       0.64      0.62      0.63        50\n",
      "\n",
      "ROC AUC for Conflict: 0.6559714795008913\n",
      "\n",
      "\n",
      "Classification Report for Economic Consequences:\n",
      "                           precision    recall  f1-score   support\n",
      "\n",
      "Not Economic Consequences       0.88      0.78      0.83        37\n",
      "    Economic Consequences       0.53      0.69      0.60        13\n",
      "\n",
      "                 accuracy                           0.76        50\n",
      "                macro avg       0.70      0.74      0.71        50\n",
      "             weighted avg       0.79      0.76      0.77        50\n",
      "\n",
      "ROC AUC for Economic Consequences: 0.7255717255717256\n",
      "\n",
      "\n",
      "Classification Report for Human Interest:\n",
      "                    precision    recall  f1-score   support\n",
      "\n",
      "Not Human Interest       1.00      0.38      0.55        21\n",
      "    Human Interest       0.69      1.00      0.82        29\n",
      "\n",
      "          accuracy                           0.74        50\n",
      "         macro avg       0.85      0.69      0.68        50\n",
      "      weighted avg       0.82      0.74      0.71        50\n",
      "\n",
      "ROC AUC for Human Interest: 0.7742200328407225\n",
      "\n",
      "\n",
      "Classification Report for Morality:\n",
      "              precision    recall  f1-score   support\n",
      "\n",
      "Not Morality       0.92      0.41      0.57        29\n",
      "    Morality       0.54      0.95      0.69        21\n",
      "\n",
      "    accuracy                           0.64        50\n",
      "   macro avg       0.73      0.68      0.63        50\n",
      "weighted avg       0.76      0.64      0.62        50\n",
      "\n",
      "ROC AUC for Morality: 0.6781609195402298\n",
      "\n",
      "Average cross-validation score: 0.23\n"
     ]
    }
   ],
   "source": [
    "train_and_tune_model(\"Classification Report (MultinomialNB, count vectorizer, tuned)\",X_train_val, y_train_val, X_test, y_test, target_names, multiNB_model, count_vectorizer, param_grid_NB);"
   ]
  },
  {
   "cell_type": "code",
   "execution_count": null,
   "metadata": {},
   "outputs": [
    {
     "name": "stdout",
     "output_type": "stream",
     "text": [
      "Fitting 10 folds for each of 10 candidates, totalling 100 fits\n",
      "Best Parameters: {'classifier__estimator__alpha': 0.1, 'classifier__estimator__fit_prior': False}\n",
      "Best Score: 0.3\n",
      "Classification Report (MultinomialNB, Tf-idf vectorizer, tuned):\n",
      "\n",
      "Classification Report for Conflict:\n",
      "              precision    recall  f1-score   support\n",
      "\n",
      "Not Conflict       0.70      0.85      0.77        33\n",
      "    Conflict       0.50      0.29      0.37        17\n",
      "\n",
      "    accuracy                           0.66        50\n",
      "   macro avg       0.60      0.57      0.57        50\n",
      "weighted avg       0.63      0.66      0.63        50\n",
      "\n",
      "ROC AUC for Conflict: 0.625668449197861\n",
      "\n",
      "\n",
      "Classification Report for Economic Consequences:\n",
      "                           precision    recall  f1-score   support\n",
      "\n",
      "Not Economic Consequences       0.85      0.78      0.82        37\n",
      "    Economic Consequences       0.50      0.62      0.55        13\n",
      "\n",
      "                 accuracy                           0.74        50\n",
      "                macro avg       0.68      0.70      0.68        50\n",
      "             weighted avg       0.76      0.74      0.75        50\n",
      "\n",
      "ROC AUC for Economic Consequences: 0.681912681912682\n",
      "\n",
      "\n",
      "Classification Report for Human Interest:\n",
      "                    precision    recall  f1-score   support\n",
      "\n",
      "Not Human Interest       0.83      0.48      0.61        21\n",
      "    Human Interest       0.71      0.93      0.81        29\n",
      "\n",
      "          accuracy                           0.74        50\n",
      "         macro avg       0.77      0.70      0.71        50\n",
      "      weighted avg       0.76      0.74      0.72        50\n",
      "\n",
      "ROC AUC for Human Interest: 0.8160919540229885\n",
      "\n",
      "\n",
      "Classification Report for Morality:\n",
      "              precision    recall  f1-score   support\n",
      "\n",
      "Not Morality       0.85      0.59      0.69        29\n",
      "    Morality       0.60      0.86      0.71        21\n",
      "\n",
      "    accuracy                           0.70        50\n",
      "   macro avg       0.72      0.72      0.70        50\n",
      "weighted avg       0.74      0.70      0.70        50\n",
      "\n",
      "ROC AUC for Morality: 0.7750410509031198\n",
      "\n",
      "Average cross-validation score: 0.30\n"
     ]
    }
   ],
   "source": [
    "train_and_tune_model(\"Classification Report (MultinomialNB, Tf-idf vectorizer, tuned)\", X_train_val, y_train_val, X_test, y_test, target_names, multiNB_model, Tfidf_vectorizer, param_grid_NB);"
   ]
  },
  {
   "cell_type": "markdown",
   "metadata": {},
   "source": [
    "Try the ensembled classification."
   ]
  },
  {
   "cell_type": "code",
   "execution_count": null,
   "metadata": {},
   "outputs": [
    {
     "name": "stdout",
     "output_type": "stream",
     "text": [
      "Fitting 5 folds for each of 81 candidates, totalling 405 fits\n",
      "Fitting 5 folds for each of 81 candidates, totalling 405 fits\n",
      "Fitting 5 folds for each of 81 candidates, totalling 405 fits\n",
      "Fitting 5 folds for each of 81 candidates, totalling 405 fits\n",
      "Results for Conflict:\n",
      "Best Parameters: {'classifier__linear_svm__C': 0.1, 'classifier__lr__C': 10, 'classifier__perceptron__alpha': 0.0001, 'classifier__perceptron__tol': 0.001}\n",
      "Best Score: 0.8099999999999999\n",
      "Classification Report:\n",
      "              precision    recall  f1-score   support\n",
      "\n",
      "           0       0.70      0.97      0.81        33\n",
      "           1       0.75      0.18      0.29        17\n",
      "\n",
      "    accuracy                           0.70        50\n",
      "   macro avg       0.72      0.57      0.55        50\n",
      "weighted avg       0.71      0.70      0.63        50\n",
      "\n",
      "\n",
      "\n",
      "Results for Economic Consequences:\n",
      "Best Parameters: {'classifier__linear_svm__C': 1, 'classifier__lr__C': 10, 'classifier__perceptron__alpha': 0.0001, 'classifier__perceptron__tol': 0.001}\n",
      "Best Score: 0.825\n",
      "Classification Report:\n",
      "              precision    recall  f1-score   support\n",
      "\n",
      "           0       0.83      0.95      0.89        37\n",
      "           1       0.75      0.46      0.57        13\n",
      "\n",
      "    accuracy                           0.82        50\n",
      "   macro avg       0.79      0.70      0.73        50\n",
      "weighted avg       0.81      0.82      0.80        50\n",
      "\n",
      "\n",
      "\n",
      "Results for Human Interest:\n",
      "Best Parameters: {'classifier__linear_svm__C': 0.1, 'classifier__lr__C': 0.1, 'classifier__perceptron__alpha': 0.0001, 'classifier__perceptron__tol': 0.001}\n",
      "Best Score: 0.74\n",
      "Classification Report:\n",
      "              precision    recall  f1-score   support\n",
      "\n",
      "           0       0.92      0.52      0.67        21\n",
      "           1       0.74      0.97      0.84        29\n",
      "\n",
      "    accuracy                           0.78        50\n",
      "   macro avg       0.83      0.74      0.75        50\n",
      "weighted avg       0.81      0.78      0.76        50\n",
      "\n",
      "\n",
      "\n",
      "Results for Morality:\n",
      "Best Parameters: {'classifier__linear_svm__C': 1, 'classifier__lr__C': 1, 'classifier__perceptron__alpha': 0.0001, 'classifier__perceptron__tol': 0.001}\n",
      "Best Score: 0.6849999999999999\n",
      "Classification Report:\n",
      "              precision    recall  f1-score   support\n",
      "\n",
      "           0       0.70      0.79      0.74        29\n",
      "           1       0.65      0.52      0.58        21\n",
      "\n",
      "    accuracy                           0.68        50\n",
      "   macro avg       0.67      0.66      0.66        50\n",
      "weighted avg       0.68      0.68      0.67        50\n",
      "\n",
      "\n",
      "\n"
     ]
    }
   ],
   "source": [
    "frames = ['Conflict', 'Economic Consequences', 'Human Interest', 'Morality']\n",
    "results = train_tune_validate_model(X_train_val, y_train_val, X_test, y_test, frames)\n",
    "\n",
    "for frame, result in results.items():\n",
    "    print(f\"Results for {frame}:\")\n",
    "    print(\"Best Parameters:\", result['Best Parameters'])\n",
    "    print(\"Best Score:\", result['Best Score'])\n",
    "    print(\"Classification Report:\")\n",
    "    print(result['Classification Report'])\n",
    "    print(\"\\n\")"
   ]
  },
  {
   "cell_type": "markdown",
   "metadata": {},
   "source": [
    "The ensembled method results is similar to direct classifications, there is no significant improvement seen. In conclusion, the Logistic Regression and hashing vectorizer will be used to predict the unlabeled data."
   ]
  },
  {
   "cell_type": "markdown",
   "metadata": {},
   "source": [
    "## 6.2 Extracting Correct and Incorrect Classifications for Analysis"
   ]
  },
  {
   "cell_type": "markdown",
   "metadata": {},
   "source": [
    "Save the results."
   ]
  },
  {
   "cell_type": "code",
   "execution_count": null,
   "metadata": {},
   "outputs": [
    {
     "name": "stdout",
     "output_type": "stream",
     "text": [
      "Fitting 10 folds for each of 10 candidates, totalling 100 fits\n",
      "Best Parameters: {'classifier__estimator__C': 1, 'classifier__estimator__max_iter': 500}\n",
      "Best Score: 0.305\n",
      "Classification Report (Logistic Regression, hashing vectorizer, tuned):\n",
      "\n",
      "Classification Report for Conflict:\n",
      "              precision    recall  f1-score   support\n",
      "\n",
      "Not Conflict       0.71      0.82      0.76        33\n",
      "    Conflict       0.50      0.35      0.41        17\n",
      "\n",
      "    accuracy                           0.66        50\n",
      "   macro avg       0.61      0.59      0.59        50\n",
      "weighted avg       0.64      0.66      0.64        50\n",
      "\n",
      "ROC AUC for Conflict: 0.7575757575757576\n",
      "\n",
      "\n",
      "Classification Report for Economic Consequences:\n",
      "                           precision    recall  f1-score   support\n",
      "\n",
      "Not Economic Consequences       0.84      0.84      0.84        37\n",
      "    Economic Consequences       0.54      0.54      0.54        13\n",
      "\n",
      "                 accuracy                           0.76        50\n",
      "                macro avg       0.69      0.69      0.69        50\n",
      "             weighted avg       0.76      0.76      0.76        50\n",
      "\n",
      "ROC AUC for Economic Consequences: 0.7130977130977131\n",
      "\n",
      "\n",
      "Classification Report for Human Interest:\n",
      "                    precision    recall  f1-score   support\n",
      "\n",
      "Not Human Interest       0.80      0.76      0.78        21\n",
      "    Human Interest       0.83      0.86      0.85        29\n",
      "\n",
      "          accuracy                           0.82        50\n",
      "         macro avg       0.82      0.81      0.81        50\n",
      "      weighted avg       0.82      0.82      0.82        50\n",
      "\n",
      "ROC AUC for Human Interest: 0.8078817733990148\n",
      "\n",
      "\n",
      "Classification Report for Morality:\n",
      "              precision    recall  f1-score   support\n",
      "\n",
      "Not Morality       0.77      0.79      0.78        29\n",
      "    Morality       0.70      0.67      0.68        21\n",
      "\n",
      "    accuracy                           0.74        50\n",
      "   macro avg       0.73      0.73      0.73        50\n",
      "weighted avg       0.74      0.74      0.74        50\n",
      "\n",
      "ROC AUC for Morality: 0.8341543513957307\n",
      "\n",
      "Average cross-validation score: 0.30\n"
     ]
    }
   ],
   "source": [
    "params, score, report, auc, cv_scores, val_predictions, best_model = train_and_tune_model(\"Classification Report (Logistic Regression, hashing vectorizer, tuned)\", X_train_val, y_train_val, X_test, y_test, target_names, logistic_model, hashing_vectorizer, param_grid_logistic);"
   ]
  },
  {
   "cell_type": "markdown",
   "metadata": {},
   "source": [
    "As X_test is a series, and y_test and val_predictions are dataframes, first convert them into lists."
   ]
  },
  {
   "cell_type": "code",
   "execution_count": null,
   "metadata": {},
   "outputs": [],
   "source": [
    "X_test = X_test.tolist()\n",
    "y_test = y_test.values.tolist()\n",
    "val_predictions = val_predictions.values.tolist()"
   ]
  },
  {
   "cell_type": "code",
   "execution_count": null,
   "metadata": {},
   "outputs": [],
   "source": [
    "def define_classification_examples(val_predictions, y_test, X_test, num_examples=5):\n",
    "    # Extracting indices of correct and incorrect classifications\n",
    "    correct_indices = [i for i, (x, y) in enumerate(zip(val_predictions, y_test)) if all(px == py for px, py in zip(x, y))]\n",
    "    incorrect_indices = [i for i, (x, y) in enumerate(zip(val_predictions, y_test)) if any(px != py for px, py in zip(x, y))]\n",
    "\n",
    "    # Printing some examples of correct classifications\n",
    "    print(\"\\nExamples of Correct Classifications:\")\n",
    "    for i in correct_indices[:num_examples]:\n",
    "        print(f\"Text: {X_test[i]} \\n - Predicted: {val_predictions[i]}, Actual: {y_test[i]}\")\n",
    "\n",
    "    # Printing some examples of incorrect classifications\n",
    "    print(\"\\nExamples of Incorrect Classifications:\")\n",
    "    for i in incorrect_indices[:num_examples]:\n",
    "        print(f\"Text: {X_test[i]} \\n - Predicted: {val_predictions[i]}, Actual: {y_test[i]}\")\n"
   ]
  },
  {
   "cell_type": "code",
   "execution_count": null,
   "metadata": {},
   "outputs": [
    {
     "name": "stdout",
     "output_type": "stream",
     "text": [
      "\n",
      "Examples of Correct Classifications:\n",
      "Text: #Learningdisabilities #Learningdisabilitiestrick #CTET2020 #CTET2021 #Dyslexia #Dsycalculia #Dsymorphia #Apraxia #dsythymia #dysgraphia #Alexia #Ctetspecial  #अधिगमअक्षमता #learningdisability #Learningdisabilitytrick #Learningdisabilityinhindi  Hello Everyone I'm kajal Dhami  Today in this particular video we will Learning Disability or CTET EXAM Preparation  Hope you like this Video   if you like this Video do like share and Subscribe to my channel  Thank you  https://youtu.be/lJ_YBHDmK2Y link 👆👆 CTET Marksheet  https://t.me/Kajaldhami05 telegram group link  https://www.facebook.com/kajal.dhami.3950 Facebook link   https://www.instagram.com/dhami.kajal05 Instagram link    CTET Social Science Paper 2: https://www.youtube.com/playlist?list=PLoSDa87lUDxOgioDmhaBFfgza3c9dupLM  Maths for CTET 2020: https://www.youtube.com/playlist?list=PLoSDa87lUDxMs-4QQgLdzN5EU6mQQQIfo  CTET Previous Years Special: https://www.youtube.com/playlist?list=PLoSDa87lUDxMI-SY811_PNy5UMPJkTuVg    English Pedagogy 2021: https://www.youtube.com/playlist?list=PLoSDa87lUDxOM6UyKn5WeuIDd8k7OJ1Eh  CTET 2021 Maths Preparation: https://www.youtube.com/playlist?list=PLoSDa87lUDxNDMgzh1bbch5GjK16jcB9v  English Pedagogy for CTET 2020: https://www.youtube.com/playlist?list=PLoSDa87lUDxNU8NS80wQJJgFDSgsHX6yw  Maths Pedagogy for CTET 2020: https://www.youtube.com/playlist?list=PLoSDa87lUDxMax9KIroTn428dugtwOsM7  Science Notes for CTET Exam || Paper 2: https://www.youtube.com/playlist?list=PLoSDa87lUDxPHQZTi0SdxI88-da4x_ps- \n",
      " - Predicted: [0, 0, 0, 0], Actual: [0, 0, 0, 0]\n",
      "Text: Hello 👋!  Je vous présente ma simple reprise au #synthé  en mode piano de la musique du générique de la série netflix Stranger Things dont j'attends la fin .  Ma reprise complète ici: https://youtu.be/UXAX69oHBek  Apprise sans partition en autodidacte avec handicap moteur aux membres supérieurs.  Merci d'avoir regardé 🎵. Si vous aimez cette vidéo, n'oubliez pas  lui donner un coup de pouce 👍 et de laisser un commentaire.  Aimez-vous cet air? Avez-vous vu cette série?                                                                        @carine_cover   Hello 👋!  I present to you my simple #keyboard cover in #piano mode of the generic , the main title theme of the Netflix 's serie Stranger Things .  My full cover here: https://youtu.be/UXAX69oHBek   Learned without sheet music as an autodidact with a motor handicap in the upper limbs.   Thank you for your comments, your shares and your 👍.  #strangerthings #coverpiano #pianomusic #pianocover #pianocovermusic #maintheme #maintitle #sound #pianogirl music #song #instrumental #howtoplay #pianist #short #shorts #youtubeshort #shortvideo #shortsvideo #shortsyoutube #youtubeshortvideo \n",
      " - Predicted: [0, 0, 0, 0], Actual: [0, 0, 0, 0]\n",
      "Text: #Intellectualdisability #aqsasaleem  in this video Ms.Aqsa Saleem (clincial Psychologist) is talking about  Intellectual disability and its management. IF YOU HAVE CHILD WITH INTELLECTUAL DISABILITY GET CONSULTATION BY CONTACTING ON FOLLOWING PHONE NUMBERS. 034-305-200-90 034-830-623-06   video please LIKE,SHARE & SUBSCRIBE THE WELLNESS PLATFORM  FOLLOW US  facebook :the wellness platform Instagram: the wellness_platform  OTHER VIDEOS OF Ms.Aqsa Saleem youtube.com/watch?v=CxJmVyepVKA&t=88s \n",
      " - Predicted: [0, 0, 1, 0], Actual: [0, 0, 1, 0]\n",
      "Text: Should you try to return to work AFTER filing your Georgia Social Security disability application?  This is a very practical concern because the disability claim evaluation process in your case can take as long as 18 months to two years from the day you start until the day you appear at an administrative law judge hearing.     And even if you win, you may wait another two to three months before SSA deposits a lump sum payment into your bank account and begins making monthly deposits.   You may decide to try to work because you have no choice - you need money for food and shelter, or perhaps a unique part time job opportunity presents itself and you want to see if you can stay employed.   Whatever the situation, work attempts after you have filed for disability benefits will impact your claim.   As I discuss in this video, however, work attempts may NOT always hurt your case.  For example, a work attempt that is unsuccessful will demonstrate to the Social Security judge that you are motivated to work and that your good faith, but failed efforts are clear evidence that your medical issues are too severe.   Statements from former co-workers or supervisors describing problems you had with attendance or performance can be very compelling non-medical evidence that we can use in support of your claim.   If you decide to try to return to work after filing for disability you should discuss your efforts with your lawyer so that you do not inadvertently hurt your case by exceeding the substantial gainful activity earnings limits.     If you are able to return to work you should absolutely do so, but you do not want to find yourself in that “in between” situation where you just barely exceed SSA rules for disability but you are not able to work enough to support yourself.   If you are not currently represented and you want to discuss your claim for disability please reach out to me at 770-393-4985.      NEXT STEPS...   =============== FREE SURVIVAL KIT ==================== Don’t know where to begin?  Download my free “Secrets of Getting Approved” Survival Kit at http://bit.ly/SSD-Survival-Kit ====================================================   ============== FREE CASE EVALUATION ================= If you or a loved one would like a case evaluation for your  SSDI or SSI case, please contact me at  http://bit.ly/Contact-Jonathan-Glo ====================================================   ================= CONTACT ME ======================= Jonathan Ginsberg Social Security Disability Attorney Website: https://georgiasocialsecuritydisabilityattorney.com Facebook: https://www.facebook.com/GinsbergLaw/ Telephone: 770-393-4985 http://bit.ly/Contact-Jonathan ==================================================== ***Click Below to SUBSCRIBE for More Videos*** https://www.youtube.com/subscription_center?add_user=UCCtyW2IwfiA368kEWTdjRAQ    #lawyernearme #disabilitylawyernearme #jonthanginsberg #ginsberg #atlantadisabilitylawyer \n",
      " - Predicted: [1, 1, 1, 1], Actual: [1, 1, 1, 1]\n",
      "Text: How to apply Unique Disability id card online | UDID Card benefits in Bengali   Web site link https://www.swavlambancard.gov.in  Hello friend I Hope you are very  well. Welcome to Shafna Technical Bright Bengali channel.   Friend Today's video is very special for people who are disabled or have a family member with a disability. Because today this video shows how to make a Disable UDID card. This means how to make a unique Disability ID card, its complete process step by step is shown. It has also been informed that what facility will be available by making this card.   So watch the whole video without skipping at all. If you skip, you can't apply properly for UDID Card. You will find complete information in this video.  And My small request to you, If you are new to my channel, you must subscribe to my channel.   Also turn on the notification bell.  By doing this, when I upload new videos of this type, the video will reach you first. And those who have already subscribed Many thanks to them.   #SHAFNATechnicalBright #KUTUBUDDIN   You can follow me on facebook-:https://www.facebook.com/kutubuddin.sha.79                               Thank You friends \n",
      " - Predicted: [0, 0, 1, 0], Actual: [0, 0, 1, 0]\n",
      "\n",
      "Examples of Incorrect Classifications:\n",
      "Text: The agency running the National Disability Insurance Scheme has been forced to defend its handling of conflicts of interest, among companies awarded contracts worth hundreds of millions of dollars.   Subscribe: http://ab.co/1svxLVE  Read more here:  ABC News provides around the clock coverage of news events as they break in Australia and abroad, including the latest coronavirus pandemic updates. It's news when you want it, from Australia's most trusted news organisation.  For more from ABC News, click here: https://ab.co/2kxYCZY Watch more ABC News content ad-free on iview: https://ab.co/2OB7Mk1  Go deeper on our ABC News In-depth channel: https://ab.co/2lNeBn2 Like ABC News on Facebook: http://facebook.com/abcnews.au Follow ABC News on Instagram: http://instagram.com/abcnews_au Follow ABC News on Twitter: http://twitter.com/abcnews  #ABCNews #ABCNewsAustralia \n",
      " - Predicted: [0, 0, 1, 1], Actual: [1, 1, 0, 1]\n",
      "Text: Avard Law Offices is a Florida based law firm that specializes in Social Security Disability benefits (SSD). https://avardlaw.com/social-security-disability/ \n",
      " - Predicted: [1, 1, 1, 1], Actual: [0, 0, 0, 0]\n",
      "Text: Social Security wants to know if you can: 1. Sit 2. Stand 3. Walk 4. Lift 5. Carry 6. Handle objects 7. Speak 8. Travel 9. Understand 10. Remember 11. Concentrate 12. Persist 13. Interact socially 14. Adapt I am a medical doctor who has been doing Social Security Consultative Examinations since 2017. \n",
      " - Predicted: [0, 0, 1, 0], Actual: [0, 0, 1, 1]\n",
      "Text: VA disability update for those veterans with a100% P&T va disability rating. ChampVA now grants more healthcare services and access to veteran families.  Nexus Letter Needs: MUSCOSKELETAL Dr. Rachna Patel - Team of Physicians nexusletterdoc@gmail.com  MENTAL HEALTH Dr. Prashant Sharma Email: prashant.sharma2@concisepsych.com  *TheCivDiv is not affiliated with the Department of Veteran Affairs and TheCivDiv is not an accredited VSO, claims agent or attorney.\"  CivDiv's mission is to INFORM and EDUCATE Veterans to disrupt the market against for-profit 'Claims Consulting' companies.  #va #veteran   IF YOU WANT TO SUPPORT CIVDIV: Patreon: https://www.patreon.com/thecivdiv or Become a MEMBER! https://www.youtube.com/channel/UCgM5ATbDAe9BSkgOQsEfV_w/join Members have early access to scheduled videos and posts. I always answer comments when members make a new comment on a video. Most importantly, members get their questions answered during Live Q/As.  Support this veteran: bbuck! Woodcraft and Layering: https://daysriverrusticgifts.square.site/ \n",
      " - Predicted: [1, 0, 1, 1], Actual: [0, 1, 1, 0]\n",
      "Text: Tune in to learn about the VA disability 55-year rule. VA reexamines veterans with disability ratings occasionally to determine if their conditions have improved, stayed the same, or worsened. Periodic future C&P exams, which happen every 2 to 5 years, can result in a higher or lower VA rating or one that stays the same. In some situations, VA will not conduct a reevaluation of a veteran’s condition.  These ratings are known as “protected ratings.”    A protected rating, broadly, is any VA disability rating that cannot be reduced or revoked by VA in the future. Examples of protected ratings include the 55-year rule, the 10-year rule, and the 20-year continuous ratings rule.  Protected VA Ratings: https://cck-law.com/blog/protected-va-disability-ratings/   VA Disability Rating Reexaminations and Reevaluations: https://cck-law.com/blog/va-disability-reexaminations-and-reevaluations/  Learn More About CCK Law: https://cck-law.com/why-hire-cck-for-your-va-disability-appeal/  Feel free to ask questions, give us feedback, or request new veterans' law topics below! And don't forget to SUBSCRIBE so you won’t miss future videos. Visit our website at cck-law.com. \n",
      " - Predicted: [0, 1, 1, 1], Actual: [0, 0, 1, 0]\n"
     ]
    }
   ],
   "source": [
    "define_classification_examples(val_predictions, y_test, X_test, num_examples=5)"
   ]
  },
  {
   "cell_type": "markdown",
   "metadata": {},
   "source": [
    "From the examples, we can see that the classifier is not so perfect, especially it can make completely reverse predictions (for the second misclassification example, the predicted [1,1,1,1] was completely different from [0,0,0,0]). However, there are still cases the classifier made exactly the right classification."
   ]
  },
  {
   "cell_type": "markdown",
   "metadata": {},
   "source": [
    "Visualization"
   ]
  },
  {
   "cell_type": "code",
   "execution_count": null,
   "metadata": {},
   "outputs": [],
   "source": [
    "def plot_confusion_matrix(y_test, val_predictions, category_names):\n",
    "    if not isinstance(y_test, pd.DataFrame):\n",
    "        y_test = pd.DataFrame(y_test, columns=category_names)\n",
    "    if not isinstance(val_predictions, pd.DataFrame):\n",
    "        val_predictions = pd.DataFrame(val_predictions, columns=category_names)\n",
    "\n",
    "    for idx, category in enumerate(category_names):\n",
    "        y_true_category = y_test.iloc[:, idx]\n",
    "        y_pred_category = val_predictions.iloc[:, idx]\n",
    "\n",
    "        cm = confusion_matrix(y_true_category, y_pred_category)\n",
    "        np.fill_diagonal(cm, 0)\n",
    "        \n",
    "        print(f\"Confusion Matrix for {category}:\\n{cm}\")\n",
    "\n",
    "        plt.figure(figsize=(6, 4))\n",
    "        ax = sns.heatmap(cm, annot=False, fmt='g', cmap='Blues', cbar=True, xticklabels=[f\"Not {category}\", category], yticklabels=[f\"Not {category}\", category])\n",
    "        \n",
    "        for text in ax.texts:  # Force annotation visibility\n",
    "            text.set_size(12)\n",
    "            if text.get_text() == '0':\n",
    "                text.set_text('0')\n",
    "\n",
    "        plt.title(f'Heatmap of Misclassifications for {category}')\n",
    "        plt.xlabel('Predicted Labels')\n",
    "        plt.ylabel('True Labels')\n",
    "        plt.show()\n"
   ]
  },
  {
   "cell_type": "code",
   "execution_count": null,
   "metadata": {},
   "outputs": [
    {
     "name": "stdout",
     "output_type": "stream",
     "text": [
      "Confusion Matrix for conflict:\n",
      "[[ 0  6]\n",
      " [11  0]]\n"
     ]
    },
    {
     "data": {
      "image/png": "[encoded data removed]",
      "text/plain": [
       "<Figure size 600x400 with 2 Axes>"
      ]
     },
     "metadata": {},
     "output_type": "display_data"
    },
    {
     "name": "stdout",
     "output_type": "stream",
     "text": [
      "Confusion Matrix for economic consequences:\n",
      "[[0 6]\n",
      " [6 0]]\n"
     ]
    },
    {
     "data": {
      "image/png": "[encoded data removed]",
      "text/plain": [
       "<Figure size 600x400 with 2 Axes>"
      ]
     },
     "metadata": {},
     "output_type": "display_data"
    },
    {
     "name": "stdout",
     "output_type": "stream",
     "text": [
      "Confusion Matrix for human interest:\n",
      "[[0 5]\n",
      " [4 0]]\n"
     ]
    },
    {
     "data": {
      "image/png": "[encoded data removed]",
      "text/plain": [
       "<Figure size 600x400 with 2 Axes>"
      ]
     },
     "metadata": {},
     "output_type": "display_data"
    },
    {
     "name": "stdout",
     "output_type": "stream",
     "text": [
      "Confusion Matrix for morality:\n",
      "[[0 6]\n",
      " [7 0]]\n"
     ]
    },
    {
     "data": {
      "image/png": "[encoded data removed]",
      "text/plain": [
       "<Figure size 600x400 with 2 Axes>"
      ]
     },
     "metadata": {},
     "output_type": "display_data"
    }
   ],
   "source": [
    "category_names = [\"conflict\", \"economic consequences\", \"human interest\", \"morality\"]\n",
    "plot_confusion_matrix(y_test, val_predictions, category_names)"
   ]
  },
  {
   "cell_type": "markdown",
   "metadata": {},
   "source": [
    "From the heatmap, we can tell that the number of wrong classification is almost equal. This might be caused by the small amount of labeled data. In the future, the labeled dataset needs to be expanded to be more powerful."
   ]
  },
  {
   "cell_type": "markdown",
   "metadata": {},
   "source": [
    "# Prediction for the Unlabeled Data"
   ]
  },
  {
   "cell_type": "markdown",
   "metadata": {},
   "source": [
    "Using the best model, we will predict the unlabeled data."
   ]
  },
  {
   "cell_type": "code",
   "execution_count": null,
   "metadata": {},
   "outputs": [],
   "source": [
    "unlabeled_data = pd.read_csv('unlabeled.csv')"
   ]
  },
  {
   "cell_type": "markdown",
   "metadata": {},
   "source": [
    "Change the unlabeld test to list format."
   ]
  },
  {
   "cell_type": "code",
   "execution_count": null,
   "metadata": {},
   "outputs": [],
   "source": [
    "unlabeled_texts = unlabeled_data['Description'].tolist()"
   ]
  },
  {
   "cell_type": "markdown",
   "metadata": {},
   "source": [
    "Use the best model to predict the unlabeled texts. Change the labels into list format"
   ]
  },
  {
   "cell_type": "code",
   "execution_count": null,
   "metadata": {},
   "outputs": [],
   "source": [
    "predictions = best_model.predict(unlabeled_texts)\n",
    "unlabeled_data['predicted_labels'] = predictions.tolist()"
   ]
  },
  {
   "cell_type": "markdown",
   "metadata": {},
   "source": [
    "Now, the predicted labels are in one cell, with a list format. We split the predicted labels through ',', and separately put them into the four frame columns. Then the predicted labels column is deleted."
   ]
  },
  {
   "cell_type": "code",
   "execution_count": null,
   "metadata": {},
   "outputs": [],
   "source": [
    "if isinstance(unlabeled_data['predicted_labels'].iloc[0], str):\n",
    "    unlabeled_data['predicted_labels'] = unlabeled_data['predicted_labels'].apply(lambda x: list(map(int, x.split(','))))\n",
    "\n",
    "# Create separate columns for each label\n",
    "unlabeled_data[['Conflict', 'Economic Consequences', 'Human Interest', 'Morality']] = pd.DataFrame(unlabeled_data['predicted_labels'].tolist(), index=unlabeled_data.index)\n",
    "\n",
    "# Drop the 'predicted_labels' column as it's no longer needed\n",
    "unlabeled_data = unlabeled_data.drop(columns=['predicted_labels'])"
   ]
  },
  {
   "cell_type": "code",
   "execution_count": null,
   "metadata": {},
   "outputs": [],
   "source": [
    "# Save the updated dataset\n",
    "unlabeled_data.to_csv('Predictions.csv', index=False)"
   ]
  },
  {
   "cell_type": "markdown",
   "metadata": {},
   "source": [
    "Combine the labeled and unlabeled datasets together to form final.csv."
   ]
  },
  {
   "cell_type": "code",
   "execution_count": null,
   "metadata": {},
   "outputs": [
    {
     "name": "stdout",
     "output_type": "stream",
     "text": [
      "All files have been combined into final.csv.\n"
     ]
    }
   ],
   "source": [
    "file_names = [\n",
    "    'video_details_shuffled_cleaned_labeled.csv',\n",
    "    'Predictions.csv'\n",
    "]\n",
    "\n",
    "# Use pandas to read and concatenate all files into one DataFrame\n",
    "final_df = pd.concat([pd.read_csv(f) for f in file_names], ignore_index=True)\n",
    "\n",
    "# Save the combined DataFrame to a new CSV file\n",
    "final_df.to_csv('final.csv', index=False)\n",
    "\n",
    "print(\"All files have been combined into final.csv.\")"
   ]
  },
  {
   "cell_type": "markdown",
   "metadata": {},
   "source": [
    "All labels have been stored in final.csv."
   ]
  }
 ],
 "metadata": {
  "kernelspec": {
   "display_name": "base",
   "language": "python",
   "name": "python3"
  },
  "language_info": {
   "codemirror_mode": {
    "name": "ipython",
    "version": 3
   },
   "file_extension": ".py",
   "mimetype": "text/x-python",
   "name": "python",
   "nbconvert_exporter": "python",
   "pygments_lexer": "ipython3",
   "version": "3.11.7"
  }
 },
 "nbformat": 4,
 "nbformat_minor": 2
}
